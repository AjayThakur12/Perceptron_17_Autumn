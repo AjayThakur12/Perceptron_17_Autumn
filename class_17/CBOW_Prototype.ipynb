{
 "cells": [
  {
   "cell_type": "code",
   "execution_count": 2,
   "metadata": {
    "collapsed": false
   },
   "outputs": [],
   "source": [
    "import numpy as np\n",
    "import re\n",
    "from matplotlib import pyplot as plt\n",
    "%matplotlib inline\n",
    "\n",
    "import keras\n",
    "from keras.layers import Dense, Activation, Input, Dropout\n",
    "from keras.models import Model"
   ]
  },
  {
   "cell_type": "code",
   "execution_count": 3,
   "metadata": {
    "collapsed": false
   },
   "outputs": [
    {
     "name": "stdout",
     "output_type": "stream",
     "text": [
      "40057 words in text\n",
      "5484 distinct words with total frequency 40057 (just to verify)\n",
      "[u'a' u'abasement' u'abhorred' ..., u'youth' u'zeus' u'zip']\n"
     ]
    }
   ],
   "source": [
    "# Reading a text file\n",
    "f = open('./data.txt')\n",
    "d = f.read()\n",
    "f.close()\n",
    "\n",
    "# Preprocessing text to include only the characters\n",
    "data = d[1260:]\n",
    "data = data.lower().decode('utf-8')\n",
    "p = re.sub('[^A-Za-z]+', ' ', data)\n",
    "\n",
    "ds = p.split()\n",
    "print len(ds), 'words in text'\n",
    "\n",
    "words, freq = np.unique(ds, return_counts=True)\n",
    "print len(words), 'distinct words with total frequency', sum(freq), '(just to verify)'\n",
    "print words"
   ]
  },
  {
   "cell_type": "code",
   "execution_count": 7,
   "metadata": {
    "collapsed": false
   },
   "outputs": [
    {
     "name": "stdout",
     "output_type": "stream",
     "text": [
      "1781\n",
      "{0: u'a', 1: u'abject', 2: u'able', 3: u'abnegation', 4: u'about', 5: u'above', 6: u'absolute', 7: u'absolutely', 8: u'absurdity', 9: u'accept', 10: u'accepted', 11: u'access', 12: u'accompanying', 13: u'accordance', 14: u'according', 15: u'accordingly', 16: u'account', 17: u'accurately', 18: u'accustomed', 19: u'ache', 20: u'acquire', 21: u'acquires', 22: u'act', 23: u'action', 24: u'actions', 25: u'acts', 26: u'actual', 27: u'actually', 28: u'added', 29: u'additional', 30: u'adequately', 31: u'admiration', 32: u'admire', 33: u'admit', 34: u'advance', 35: u'advanced', 36: u'advancement', 37: u'advantage', 38: u'advantageous', 39: u'advantages', 40: u'advocate', 41: u'aesthetic', 42: u'affairs', 43: u'afford', 44: u'affording', 45: u'affords', 46: u'after', 47: u'again', 48: u'against', 49: u'age', 50: u'ages', 51: u'ago', 52: u'agree', 53: u'agreeable', 54: u'agreement', 55: u'aid', 56: u'aim', 57: u'aims', 58: u'air', 59: u'alike', 60: u'alive', 61: u'all', 62: u'allied', 63: u'almost', 64: u'alone', 65: u'along', 66: u'already', 67: u'also', 68: u'alteration', 69: u'although', 70: u'altogether', 71: u'altruistic', 72: u'always', 73: u'am', 74: u'ambition', 75: u'amid', 76: u'among', 77: u'an', 78: u'analysis', 79: u'ancient', 80: u'and', 81: u'animal', 82: u'animals', 83: u'annihilation', 84: u'another', 85: u'antiquity', 86: u'antithesis', 87: u'anxiety', 88: u'anxious', 89: u'any', 90: u'anyone', 91: u'anything', 92: u'anywhere', 93: u'apart', 94: u'apparent', 95: u'apparently', 96: u'appear', 97: u'appearance', 98: u'appears', 99: u'applicable', 100: u'apply', 101: u'appreciate', 102: u'appreciation', 103: u'approach', 104: u'apt', 105: u'archive', 106: u'ardor', 107: u'are', 108: u'argument', 109: u'arise', 110: u'arises', 111: u'around', 112: u'aroused', 113: u'arrived', 114: u'art', 115: u'artistic', 116: u'artists', 117: u'arts', 118: u'as', 119: u'ascetic', 120: u'asceticism', 121: u'ascribed', 122: u'ascribes', 123: u'ashamed', 124: u'aside', 125: u'ask', 126: u'asked', 127: u'aspect', 128: u'assertion', 129: u'assertions', 130: u'associated', 131: u'assume', 132: u'assumes', 133: u'assumption', 134: u'assumptions', 135: u'astray', 136: u'astrology', 137: u'at', 138: u'atmosphere', 139: u'attain', 140: u'attained', 141: u'attains', 142: u'attest', 143: u'attitude', 144: u'author', 145: u'authority', 146: u'aversion', 147: u'aware', 148: u'away', 149: u'awe', 150: u'b', 151: u'back', 152: u'backward', 153: u'bad', 154: u'badness', 155: u'based', 156: u'basic', 157: u'basis', 158: u'be', 159: u'bear', 160: u'bearing', 161: u'beautiful', 162: u'beauty', 163: u'became', 164: u'because', 165: u'become', 166: u'becomes', 167: u'been', 168: u'before', 169: u'begin', 170: u'beginning', 171: u'begins', 172: u'beholder', 173: u'beholders', 174: u'being', 175: u'beings', 176: u'belief', 177: u'believe', 178: u'believed', 179: u'believes', 180: u'belongs', 181: u'below', 182: u'beneath', 183: u'benefit', 184: u'benevolence', 185: u'benevolent', 186: u'best', 187: u'betrayed', 188: u'better', 189: u'between', 190: u'beyond', 191: u'bible', 192: u'binds', 193: u'birdlike', 194: u'bit', 195: u'blame', 196: u'blind', 197: u'blood', 198: u'body', 199: u'book', 200: u'born', 201: u'both', 202: u'bottom', 203: u'bound', 204: u'box', 205: u'brain', 206: u'brains', 207: u'breaking', 208: u'brief', 209: u'bring', 210: u'brings', 211: u'brought', 212: u'brute', 213: u'burden', 214: u'burning', 215: u'business', 216: u'but', 217: u'by', 218: u'c', 219: u'calculated', 220: u'calculation', 221: u'call', 222: u'called', 223: u'calling', 224: u'calls', 225: u'calm', 226: u'came', 227: u'can', 228: u'cannot', 229: u'capable', 230: u'capacity', 231: u'care', 232: u'carry', 233: u'case', 234: u'cases', 235: u'cast', 236: u'caste', 237: u'castes', 238: u'catholic', 239: u'causation', 240: u'cause', 241: u'causes', 242: u'cease', 243: u'ceases', 244: u'centuries', 245: u'century', 246: u'certain', 247: u'certainly', 248: u'certainty', 249: u'change', 250: u'changed', 251: u'character', 252: u'characteristic', 253: u'charge', 254: u'charm', 255: u'chemistry', 256: u'child', 257: u'children', 258: u'christian', 259: u'christianity', 260: u'church', 261: u'circle', 262: u'circles', 263: u'circumscribed', 264: u'circumstances', 265: u'city', 266: u'civilization', 267: u'civilizations', 268: u'claim', 269: u'classification', 270: u'clear', 271: u'clearly', 272: u'close', 273: u'closely', 274: u'codes', 275: u'cold', 276: u'collapses', 277: u'collection', 278: u'color', 279: u'combined', 280: u'come', 281: u'comes', 282: u'coming', 283: u'command', 284: u'common', 285: u'community', 286: u'comparative', 287: u'compared', 288: u'comparison', 289: u'compassion', 290: u'complete', 291: u'compliance', 292: u'comply', 293: u'complying', 294: u'comprehension', 295: u'compressed', 296: u'compulsion', 297: u'comrades', 298: u'conceived', 299: u'conception', 300: u'conceptions', 301: u'concerned', 302: u'concerning', 303: u'concerns', 304: u'concluded', 305: u'conclusion', 306: u'conclusions', 307: u'condition', 308: u'conditions', 309: u'conduct', 310: u'conflict', 311: u'confusion', 312: u'connected', 313: u'connection', 314: u'conscience', 315: u'conscious', 316: u'consciousness', 317: u'consensus', 318: u'consequence', 319: u'consequences', 320: u'consequently', 321: u'consider', 322: u'considerable', 323: u'consideration', 324: u'considerations', 325: u'considered', 326: u'consists', 327: u'consolation', 328: u'constant', 329: u'constitutes', 330: u'contact', 331: u'contain', 332: u'contemplate', 333: u'contemplation', 334: u'contemporary', 335: u'contempt', 336: u'content', 337: u'contest', 338: u'continually', 339: u'continuance', 340: u'continue', 341: u'contradict', 342: u'contrary', 343: u'control', 344: u'conviction', 345: u'copied', 346: u'copies', 347: u'copy', 348: u'copying', 349: u'copyright', 350: u'corporeal', 351: u'corresponding', 352: u'corresponds', 353: u'cosmical', 354: u'cosmos', 355: u'cost', 356: u'could', 357: u'counter', 358: u'countless', 359: u'courage', 360: u'course', 361: u'courses', 362: u'craves', 363: u'created', 364: u'creating', 365: u'creature', 366: u'creatures', 367: u'credit', 368: u'crude', 369: u'cruel', 370: u'cruelty', 371: u'cry', 372: u'culture', 373: u'cunning', 374: u'curiosity', 375: u'custom', 376: u'customary', 377: u'customs', 378: u'cut', 379: u'daily', 380: u'damage', 381: u'damages', 382: u'danger', 383: u'dangerous', 384: u'dare', 385: u'day', 386: u'days', 387: u'deal', 388: u'dear', 389: u'death', 390: u'deceivers', 391: u'deception', 392: u'decided', 393: u'decides', 394: u'deduced', 395: u'deduction', 396: u'deed', 397: u'deeds', 398: u'deem', 399: u'deemed', 400: u'deems', 401: u'deep', 402: u'deeper', 403: u'deepest', 404: u'defect', 405: u'defective', 406: u'defence', 407: u'degree', 408: u'degrees', 409: u'deity', 410: u'delight', 411: u'delightful', 412: u'delights', 413: u'delusion', 414: u'delusions', 415: u'demand', 416: u'demands', 417: u'demon', 418: u'demons', 419: u'depends', 420: u'deportment', 421: u'depression', 422: u'deprives', 423: u'der', 424: u'derivative', 425: u'desirable', 426: u'desire', 427: u'desired', 428: u'desires', 429: u'despair', 430: u'destiny', 431: u'destroy', 432: u'destruction', 433: u'determine', 434: u'determined', 435: u'develop', 436: u'developed', 437: u'developing', 438: u'development', 439: u'devil', 440: u'devilish', 441: u'dictum', 442: u'did', 443: u'die', 444: u'died', 445: u'difference', 446: u'different', 447: u'difficult', 448: u'ding', 449: u'dinge', 450: u'direct', 451: u'directly', 452: u'disagreeable', 453: u'disclaimer', 454: u'discontent', 455: u'discovered', 456: u'discredited', 457: u'discretionary', 458: u'disinterested', 459: u'disparage', 460: u'disparagement', 461: u'displaying', 462: u'disposed', 463: u'disposition', 464: u'dispositions', 465: u'distinction', 466: u'distinguished', 467: u'distraction', 468: u'distribute', 469: u'distributed', 470: u'distributing', 471: u'distribution', 472: u'distrust', 473: u'divest', 474: u'divine', 475: u'do', 476: u'doctrine', 477: u'does', 478: u'dogma', 479: u'dogmas', 480: u'doing', 481: u'domain', 482: u'domination', 483: u'donate', 484: u'donations', 485: u'done', 486: u'doses', 487: u'double', 488: u'doubt', 489: u'down', 490: u'dread', 491: u'dream', 492: u'dreams', 493: u'due', 494: u'dull', 495: u'duly', 496: u'during', 497: u'duty', 498: u'e', 499: u'each', 500: u'eagerness', 501: u'earlier', 502: u'early', 503: u'easier', 504: u'easily', 505: u'easy', 506: u'ebook', 507: u'ebooks', 508: u'editions', 509: u'education', 510: u'effect', 511: u'effective', 512: u'effects', 513: u'effort', 514: u'efforts', 515: u'egoism', 516: u'egoistic', 517: u'either', 518: u'electronic', 519: u'element', 520: u'elements', 521: u'else', 522: u'email', 523: u'emancipation', 524: u'embodied', 525: u'emotion', 526: u'emotional', 527: u'emotions', 528: u'employ', 529: u'empty', 530: u'end', 531: u'endowed', 532: u'ends', 533: u'enduring', 534: u'enemy', 535: u'enjoyment', 536: u'enjoyments', 537: u'enlightenment', 538: u'enough', 539: u'entailed', 540: u'entails', 541: u'entertainment', 542: u'entire', 543: u'entirely', 544: u'entity', 545: u'environment', 546: u'envy', 547: u'epochs', 548: u'equal', 549: u'equally', 550: u'equipment', 551: u'erroneous', 552: u'error', 553: u'errors', 554: u'especially', 555: u'essence', 556: u'essential', 557: u'establish', 558: u'established', 559: u'esteemed', 560: u'estimate', 561: u'estimates', 562: u'eternal', 563: u'ethic', 564: u'ethical', 565: u'ethics', 566: u'europe', 567: u'even', 568: u'event', 569: u'events', 570: u'ever', 571: u'every', 572: u'everyone', 573: u'everything', 574: u'everywhere', 575: u'evidence', 576: u'evident', 577: u'evil', 578: u'evils', 579: u'evinces', 580: u'evolution', 581: u'evolved', 582: u'exactly', 583: u'exaggerated', 584: u'exalted', 585: u'example', 586: u'exceedingly', 587: u'except', 588: u'exception', 589: u'exceptional', 590: u'excessive', 591: u'exchange', 592: u'excitation', 593: u'excitement', 594: u'exercise', 595: u'exhaustion', 596: u'exist', 597: u'existence', 598: u'existing', 599: u'exists', 600: u'expedient', 601: u'expense', 602: u'experience', 603: u'experienced', 604: u'experiences', 605: u'explained', 606: u'explanation', 607: u'explanations', 608: u'expression', 609: u'extends', 610: u'extent', 611: u'extinct', 612: u'extinction', 613: u'extraordinary', 614: u'eye', 615: u'eyes', 616: u'f', 617: u'fact', 618: u'facts', 619: u'faculty', 620: u'faith', 621: u'fall', 622: u'false', 623: u'falsehood', 624: u'familiar', 625: u'family', 626: u'fancy', 627: u'far', 628: u'fashion', 629: u'fashioned', 630: u'fate', 631: u'father', 632: u'fault', 633: u'fear', 634: u'feared', 635: u'fearful', 636: u'fee', 637: u'feel', 638: u'feeling', 639: u'feelings', 640: u'feels', 641: u'fees', 642: u'feet', 643: u'fellow', 644: u'felt', 645: u'few', 646: u'field', 647: u'final', 648: u'finally', 649: u'find', 650: u'finds', 651: u'fine', 652: u'first', 653: u'fitness', 654: u'flowers', 655: u'fly', 656: u'follow', 657: u'following', 658: u'food', 659: u'for', 660: u'forbidden', 661: u'forced', 662: u'forces', 663: u'foreign', 664: u'forgetfulness', 665: u'forgotten', 666: u'form', 667: u'format', 668: u'formed', 669: u'former', 670: u'formerly', 671: u'forms', 672: u'forth', 673: u'fortunate', 674: u'forward', 675: u'found', 676: u'foundation', 677: u'founder', 678: u'four', 679: u'free', 680: u'freedom', 681: u'freely', 682: u'friendliness', 683: u'friends', 684: u'frightful', 685: u'from', 686: u'full', 687: u'fully', 688: u'fundamental', 689: u'further', 690: u'future', 691: u'gain', 692: u'gained', 693: u'gains', 694: u'garb', 695: u'gave', 696: u'general', 697: u'generally', 698: u'generation', 699: u'generations', 700: u'german', 701: u'germans', 702: u'germany', 703: u'gets', 704: u'give', 705: u'given', 706: u'gives', 707: u'go', 708: u'goal', 709: u'god', 710: u'gods', 711: u'goes', 712: u'goethe', 713: u'gone', 714: u'good', 715: u'goodness', 716: u'grace', 717: u'gradually', 718: u'granted', 719: u'grateful', 720: u'gratefully', 721: u'gratification', 722: u'gratitude', 723: u'great', 724: u'greater', 725: u'greatest', 726: u'greatness', 727: u'greek', 728: u'greeks', 729: u'grew', 730: u'grow', 731: u'grown', 732: u'grows', 733: u'guard', 734: u'guided', 735: u'guilt', 736: u'guiltless', 737: u'guiltlessness', 738: u'guilty', 739: u'gutenberg', 740: u'habit', 741: u'habits', 742: u'habitual', 743: u'had', 744: u'half', 745: u'hand', 746: u'happens', 747: u'happiness', 748: u'hard', 749: u'harmless', 750: u'harmony', 751: u'has', 752: u'hate', 753: u'hatred', 754: u'have', 755: u'having', 756: u'he', 757: u'head', 758: u'health', 759: u'hear', 760: u'heart', 761: u'heaven', 762: u'heavy', 763: u'height', 764: u'held', 765: u'help', 766: u'hence', 767: u'henceforth', 768: u'her', 769: u'here', 770: u'hereafter', 771: u'hereditary', 772: u'heretofore', 773: u'hero', 774: u'hidden', 775: u'high', 776: u'higher', 777: u'highest', 778: u'highly', 779: u'him', 780: u'himself', 781: u'his', 782: u'historical', 783: u'history', 784: u'hitherto', 785: u'hold', 786: u'holder', 787: u'holy', 788: u'home', 789: u'honesty', 790: u'honor', 791: u'honorable', 792: u'honored', 793: u'hope', 794: u'hours', 795: u'house', 796: u'how', 797: u'however', 798: u'http', 799: u'human', 800: u'humanity', 801: u'hundred', 802: u'hunger', 803: u'hypotheses', 804: u'hypothesis', 805: u'i', 806: u'idea', 807: u'ideal', 808: u'ideas', 809: u'if', 810: u'ill', 811: u'illness', 812: u'illogical', 813: u'images', 814: u'imagination', 815: u'imitation', 816: u'immediate', 817: u'immediately', 818: u'immoral', 819: u'immutable', 820: u'imperative', 821: u'importance', 822: u'important', 823: u'imposed', 824: u'impossible', 825: u'impression', 826: u'impressions', 827: u'impulse', 828: u'impulses', 829: u'in', 830: u'inability', 831: u'inasmuch', 832: u'inclination', 833: u'included', 834: u'including', 835: u'increase', 836: u'indeed', 837: u'indication', 838: u'indifferently', 839: u'individual', 840: u'individuality', 841: u'individuals', 842: u'inexplicable', 843: u'inferior', 844: u'inflict', 845: u'inflicted', 846: u'infliction', 847: u'influence', 848: u'influences', 849: u'information', 850: u'inherited', 851: u'inhuman', 852: u'injure', 853: u'injury', 854: u'injustice', 855: u'inner', 856: u'insight', 857: u'inspire', 858: u'inspired', 859: u'inspires', 860: u'instance', 861: u'instead', 862: u'instinct', 863: u'intellect', 864: u'intellectual', 865: u'intelligence', 866: u'intentional', 867: u'intercourse', 868: u'interest', 869: u'interpretation', 870: u'intimidation', 871: u'into', 872: u'intolerable', 873: u'invariable', 874: u'invention', 875: u'involuntarily', 876: u'involved', 877: u'inward', 878: u'irrational', 879: u'irresponsibility', 880: u'is', 881: u'isolated', 882: u'it', 883: u'its', 884: u'itself', 885: u'joy', 886: u'judge', 887: u'judged', 888: u'judgment', 889: u'judgments', 890: u'just', 891: u'justice', 892: u'justification', 893: u'justify', 894: u'kant', 895: u'keenest', 896: u'keep', 897: u'kill', 898: u'kind', 899: u'kinds', 900: u'know', 901: u'knowing', 902: u'knowledge', 903: u'known', 904: u'knows', 905: u'la', 906: u'labor', 907: u'lack', 908: u'lacking', 909: u'laid', 910: u'language', 911: u'lapse', 912: u'largely', 913: u'last', 914: u'late', 915: u'later', 916: u'latter', 917: u'laugh', 918: u'law', 919: u'laws', 920: u'lead', 921: u'leads', 922: u'learn', 923: u'learned', 924: u'least', 925: u'led', 926: u'left', 927: u'less', 928: u'let', 929: u'liability', 930: u'liberation', 931: u'license', 932: u'lie', 933: u'lies', 934: u'life', 935: u'light', 936: u'lighten', 937: u'lights', 938: u'like', 939: u'likewise', 940: u'limitation', 941: u'limited', 942: u'line', 943: u'lines', 944: u'links', 945: u'literally', 946: u'literary', 947: u'little', 948: u'live', 949: u'lived', 950: u'lives', 951: u'living', 952: u'located', 953: u'logic', 954: u'logical', 955: u'long', 956: u'longer', 957: u'longing', 958: u'look', 959: u'looked', 960: u'looking', 961: u'looks', 962: u'lose', 963: u'lost', 964: u'love', 965: u'loved', 966: u'loves', 967: u'low', 968: u'lower', 969: u'made', 970: u'madness', 971: u'magic', 972: u'magical', 973: u'maintain', 974: u'maintaining', 975: u'maintenance', 976: u'majority', 977: u'make', 978: u'makes', 979: u'making', 980: u'malady', 981: u'man', 982: u'manifest', 983: u'manifestation', 984: u'manifestations', 985: u'manifested', 986: u'manifests', 987: u'mankind', 988: u'manner', 989: u'manners', 990: u'many', 991: u'martyr', 992: u'mass', 993: u'master', 994: u'masters', 995: u'mastery', 996: u'material', 997: u'matter', 998: u'maxim', 999: u'maxims', 1000: u'may', 1001: u'me', 1002: u'mean', 1003: u'meaning', 1004: u'means', 1005: u'measure', 1006: u'measurement', 1007: u'medium', 1008: u'meet', 1009: u'memory', 1010: u'men', 1011: u'mensch', 1012: u'mental', 1013: u'mere', 1014: u'merely', 1015: u'merit', 1016: u'metaphysic', 1017: u'metaphysical', 1018: u'metaphysics', 1019: u'method', 1020: u'methods', 1021: u'might', 1022: u'mind', 1023: u'miracles', 1024: u'miraculous', 1025: u'mirror', 1026: u'misfortune', 1027: u'mission', 1028: u'modern', 1029: u'moment', 1030: u'moments', 1031: u'money', 1032: u'moods', 1033: u'moral', 1034: u'morality', 1035: u'more', 1036: u'moreover', 1037: u'mortal', 1038: u'most', 1039: u'mother', 1040: u'motive', 1041: u'motives', 1042: u'moved', 1043: u'movement', 1044: u'moving', 1045: u'much', 1046: u'must', 1047: u'mutual', 1048: u'my', 1049: u'myself', 1050: u'mystery', 1051: u'name', 1052: u'namely', 1053: u'names', 1054: u'nations', 1055: u'natural', 1056: u'naturally', 1057: u'nature', 1058: u'natures', 1059: u'near', 1060: u'nearer', 1061: u'nearly', 1062: u'necessarily', 1063: u'necessary', 1064: u'necessity', 1065: u'need', 1066: u'needs', 1067: u'negative', 1068: u'neighbor', 1069: u'neither', 1070: u'ness', 1071: u'net', 1072: u'never', 1073: u'nevertheless', 1074: u'new', 1075: u'next', 1076: u'no', 1077: u'noble', 1078: u'non', 1079: u'none', 1080: u'nor', 1081: u'not', 1082: u'nothing', 1083: u'notice', 1084: u'notion', 1085: u'notions', 1086: u'notwithstanding', 1087: u'now', 1088: u'nowadays', 1089: u'number', 1090: u'obedience', 1091: u'object', 1092: u'objects', 1093: u'obscene', 1094: u'observation', 1095: u'obtain', 1096: u'obtained', 1097: u'obtaining', 1098: u'occasion', 1099: u'occasionally', 1100: u'occasioned', 1101: u'occasions', 1102: u'occur', 1103: u'of', 1104: u'off', 1105: u'offerings', 1106: u'official', 1107: u'often', 1108: u'old', 1109: u'older', 1110: u'on', 1111: u'once', 1112: u'one', 1113: u'ones', 1114: u'oneself', 1115: u'online', 1116: u'only', 1117: u'opinion', 1118: u'opinions', 1119: u'oppose', 1120: u'opposing', 1121: u'opposite', 1122: u'oppressed', 1123: u'or', 1124: u'oracle', 1125: u'ordeal', 1126: u'order', 1127: u'ordinary', 1128: u'org', 1129: u'organic', 1130: u'organisms', 1131: u'organs', 1132: u'origin', 1133: u'original', 1134: u'originally', 1135: u'originated', 1136: u'other', 1137: u'others', 1138: u'otherwise', 1139: u'ought', 1140: u'our', 1141: u'ourselves', 1142: u'out', 1143: u'outside', 1144: u'over', 1145: u'owing', 1146: u'own', 1147: u'owner', 1148: u'paid', 1149: u'pain', 1150: u'painful', 1151: u'pains', 1152: u'palpably', 1153: u'pandora', 1154: u'pangs', 1155: u'paragraph', 1156: u'paragraphs', 1157: u'part', 1158: u'partiality', 1159: u'particular', 1160: u'particularly', 1161: u'party', 1162: u'passion', 1163: u'passions', 1164: u'past', 1165: u'path', 1166: u'paths', 1167: u'payments', 1168: u'peace', 1169: u'people', 1170: u'peoples', 1171: u'perceive', 1172: u'perceived', 1173: u'perception', 1174: u'perfect', 1175: u'perfectly', 1176: u'performing', 1177: u'perhaps', 1178: u'perilous', 1179: u'period', 1180: u'periods', 1181: u'permission', 1182: u'perpetually', 1183: u'person', 1184: u'personal', 1185: u'personalities', 1186: u'personality', 1187: u'persons', 1188: u'perspective', 1189: u'perverted', 1190: u'petty', 1191: u'pglaf', 1192: u'phenomena', 1193: u'phenomenon', 1194: u'philosopher', 1195: u'philosophers', 1196: u'philosophical', 1197: u'philosophy', 1198: u'phrase', 1199: u'physical', 1200: u'picture', 1201: u'pictures', 1202: u'piece', 1203: u'pieces', 1204: u'place', 1205: u'placed', 1206: u'placing', 1207: u'plain', 1208: u'plants', 1209: u'plato', 1210: u'play', 1211: u'please', 1212: u'pleasing', 1213: u'pleasure', 1214: u'pneumatic', 1215: u'poet', 1216: u'poets', 1217: u'point', 1218: u'poor', 1219: u'portions', 1220: u'possess', 1221: u'possessed', 1222: u'possession', 1223: u'possibility', 1224: u'possible', 1225: u'possibly', 1226: u'posted', 1227: u'posterity', 1228: u'potent', 1229: u'poverty', 1230: u'power', 1231: u'powerful', 1232: u'powerless', 1233: u'powers', 1234: u'practical', 1235: u'practice', 1236: u'praise', 1237: u'prayer', 1238: u'predicated', 1239: u'predisposition', 1240: u'presence', 1241: u'present', 1242: u'presentiment', 1243: u'preservation', 1244: u'presupposes', 1245: u'prevailing', 1246: u'prevails', 1247: u'pride', 1248: u'priests', 1249: u'primitive', 1250: u'primordial', 1251: u'principal', 1252: u'principle', 1253: u'printed', 1254: u'prior', 1255: u'privilege', 1256: u'probably', 1257: u'problem', 1258: u'problems', 1259: u'proceeding', 1260: u'process', 1261: u'processes', 1262: u'produced', 1263: u'profound', 1264: u'profoundly', 1265: u'progress', 1266: u'project', 1267: u'promised', 1268: u'promises', 1269: u'prompt', 1270: u'pronounced', 1271: u'proof', 1272: u'proper', 1273: u'property', 1274: u'proportions', 1275: u'proposition', 1276: u'protect', 1277: u'protection', 1278: u'prove', 1279: u'proves', 1280: u'provide', 1281: u'provided', 1282: u'providing', 1283: u'psychological', 1284: u'public', 1285: u'punished', 1286: u'punishment', 1287: u'pupil', 1288: u'pure', 1289: u'purely', 1290: u'purpose', 1291: u'purposes', 1292: u'put', 1293: u'putting', 1294: u'qualities', 1295: u'quality', 1296: u'quantity', 1297: u'question', 1298: u'questioning', 1299: u'questions', 1300: u'quite', 1301: u'race', 1302: u'races', 1303: u'rangordnung', 1304: u'rank', 1305: u'rate', 1306: u'rather', 1307: u'rational', 1308: u'reach', 1309: u'reaching', 1310: u'reaction', 1311: u'read', 1312: u'readily', 1313: u'reality', 1314: u'really', 1315: u'reared', 1316: u'reason', 1317: u'reasonable', 1318: u'reasoning', 1319: u'reasons', 1320: u'receive', 1321: u'received', 1322: u'reference', 1323: u'reflection', 1324: u'refund', 1325: u'regard', 1326: u'regarded', 1327: u'regarding', 1328: u'regards', 1329: u'relation', 1330: u'relations', 1331: u'relationship', 1332: u'relationships', 1333: u'relic', 1334: u'religion', 1335: u'religions', 1336: u'religious', 1337: u'remain', 1338: u'remained', 1339: u'remains', 1340: u'remote', 1341: u'remove', 1342: u'render', 1343: u'rendered', 1344: u'renders', 1345: u'replacement', 1346: u'repose', 1347: u'represented', 1348: u'require', 1349: u'requirements', 1350: u'requires', 1351: u'requite', 1352: u'respect', 1353: u'respecting', 1354: u'responsibility', 1355: u'responsible', 1356: u'rest', 1357: u'rests', 1358: u'result', 1359: u'results', 1360: u'return', 1361: u'revenge', 1362: u'reverence', 1363: u'reverse', 1364: u'reward', 1365: u'rich', 1366: u'richest', 1367: u'rid', 1368: u'riddle', 1369: u'right', 1370: u'rightly', 1371: u'rochefoucauld', 1372: u'rooted', 1373: u'roots', 1374: u'royalty', 1375: u'rule', 1376: u'rules', 1377: u'ruling', 1378: u'run', 1379: u's', 1380: u'sache', 1381: u'sacrifice', 1382: u'sacrificed', 1383: u'said', 1384: u'saint', 1385: u'saints', 1386: u'sake', 1387: u'salvation', 1388: u'same', 1389: u'sanctity', 1390: u'satisfaction', 1391: u'satisfy', 1392: u'savage', 1393: u'saw', 1394: u'say', 1395: u'says', 1396: u'scarcely', 1397: u'school', 1398: u'schopenhauer', 1399: u'science', 1400: u'sciences', 1401: u'scientific', 1402: u'second', 1403: u'secret', 1404: u'section', 1405: u'sections', 1406: u'see', 1407: u'seeks', 1408: u'seem', 1409: u'seemed', 1410: u'seeming', 1411: u'seems', 1412: u'sees', 1413: u'seldom', 1414: u'self', 1415: u'sensations', 1416: u'sense', 1417: u'sensible', 1418: u'sensitive', 1419: u'sentiment', 1420: u'sentiments', 1421: u'series', 1422: u'serious', 1423: u'seriousness', 1424: u'serve', 1425: u'service', 1426: u'servile', 1427: u'set', 1428: u'sexual', 1429: u'shadow', 1430: u'shall', 1431: u'shame', 1432: u'share', 1433: u'she', 1434: u'short', 1435: u'should', 1436: u'show', 1437: u'shown', 1438: u'shows', 1439: u'sickness', 1440: u'side', 1441: u'sighted', 1442: u'significance', 1443: u'similar', 1444: u'simple', 1445: u'simplicity', 1446: u'simply', 1447: u'simultaneously', 1448: u'sin', 1449: u'since', 1450: u'sinful', 1451: u'sinfulness', 1452: u'single', 1453: u'singular', 1454: u'site', 1455: u'skin', 1456: u'slave', 1457: u'sleep', 1458: u'sleeper', 1459: u'slowly', 1460: u'small', 1461: u'so', 1462: u'social', 1463: u'society', 1464: u'soil', 1465: u'solely', 1466: u'solitude', 1467: u'some', 1468: u'somebody', 1469: u'someone', 1470: u'something', 1471: u'son', 1472: u'sons', 1473: u'soon', 1474: u'sorrow', 1475: u'sort', 1476: u'sought', 1477: u'soul', 1478: u'souls', 1479: u'sound', 1480: u'source', 1481: u'sources', 1482: u'space', 1483: u'speak', 1484: u'speaking', 1485: u'speaks', 1486: u'special', 1487: u'species', 1488: u'specimens', 1489: u'spectacle', 1490: u'sphere', 1491: u'spirit', 1492: u'spirits', 1493: u'spiritual', 1494: u'spoken', 1495: u'spot', 1496: u'spring', 1497: u'stages', 1498: u'stand', 1499: u'standard', 1500: u'standards', 1501: u'standpoint', 1502: u'stands', 1503: u'state', 1504: u'stated', 1505: u'states', 1506: u'status', 1507: u'steady', 1508: u'step', 1509: u'steps', 1510: u'still', 1511: u'stone', 1512: u'stood', 1513: u'stream', 1514: u'strength', 1515: u'strenuous', 1516: u'strict', 1517: u'strive', 1518: u'strivings', 1519: u'stroke', 1520: u'strong', 1521: u'stronger', 1522: u'strongest', 1523: u'struggle', 1524: u'stupid', 1525: u'stupidity', 1526: u'subject', 1527: u'subjection', 1528: u'subsequent', 1529: u'substance', 1530: u'substitute', 1531: u'subtlety', 1532: u'success', 1533: u'such', 1534: u'sudden', 1535: u'suddenly', 1536: u'suffer', 1537: u'suffering', 1538: u'suffers', 1539: u'sufficient', 1540: u'sufficiently', 1541: u'suicide', 1542: u'sum', 1543: u'sun', 1544: u'superior', 1545: u'superiority', 1546: u'supernatural', 1547: u'superstition', 1548: u'superstitious', 1549: u'support', 1550: u'supposed', 1551: u'sure', 1552: u'survival', 1553: u'surviving', 1554: u'susceptibility', 1555: u'suspicion', 1556: u'sympathy', 1557: u'system', 1558: u'systems', 1559: u'take', 1560: u'taken', 1561: u'takes', 1562: u'taking', 1563: u'talk', 1564: u'tantamount', 1565: u'tax', 1566: u'tears', 1567: u'temperament', 1568: u'tendencies', 1569: u'tendency', 1570: u'tenets', 1571: u'term', 1572: u'termed', 1573: u'terms', 1574: u'testimony', 1575: u'than', 1576: u'that', 1577: u'the', 1578: u'their', 1579: u'them', 1580: u'themselves', 1581: u'then', 1582: u'theological', 1583: u'theology', 1584: u'theory', 1585: u'there', 1586: u'thereby', 1587: u'therefore', 1588: u'these', 1589: u'they', 1590: u'thing', 1591: u'things', 1592: u'think', 1593: u'thinkers', 1594: u'thinking', 1595: u'thinks', 1596: u'thirst', 1597: u'this', 1598: u'thoroughly', 1599: u'those', 1600: u'though', 1601: u'thought', 1602: u'thoughts', 1603: u'thousand', 1604: u'thousands', 1605: u'threatening', 1606: u'three', 1607: u'through', 1608: u'throughout', 1609: u'thus', 1610: u'time', 1611: u'times', 1612: u'tm', 1613: u'to', 1614: u'together', 1615: u'told', 1616: u'too', 1617: u'took', 1618: u'tooth', 1619: u'torn', 1620: u'total', 1621: u'totally', 1622: u'towards', 1623: u'trademark', 1624: u'tradition', 1625: u'traditional', 1626: u'tragedy', 1627: u'train', 1628: u'trained', 1629: u'training', 1630: u'transferred', 1631: u'treasure', 1632: u'tree', 1633: u'triumph', 1634: u'true', 1635: u'truth', 1636: u'truths', 1637: u'try', 1638: u'turn', 1639: u'two', 1640: u'u', 1641: u'un', 1642: u'unable', 1643: u'unalterable', 1644: u'unconditioned', 1645: u'unconsciously', 1646: u'und', 1647: u'under', 1648: u'understand', 1649: u'understanding', 1650: u'understood', 1651: u'unegoistic', 1652: u'unethical', 1653: u'unfortunate', 1654: u'uniformity', 1655: u'united', 1656: u'unities', 1657: u'unity', 1658: u'universal', 1659: u'universally', 1660: u'unjust', 1661: u'unknown', 1662: u'unless', 1663: u'unselfish', 1664: u'until', 1665: u'unusual', 1666: u'up', 1667: u'upon', 1668: u'us', 1669: u'usage', 1670: u'use', 1671: u'used', 1672: u'useful', 1673: u'user', 1674: u'using', 1675: u'usual', 1676: u'usually', 1677: u'utilitarian', 1678: u'utility', 1679: u'utmost', 1680: u'utterly', 1681: u'valid', 1682: u'validity', 1683: u'value', 1684: u'vanity', 1685: u'various', 1686: u'varying', 1687: u'vengeance', 1688: u'venture', 1689: u'very', 1690: u'vice', 1691: u'victim', 1692: u'victory', 1693: u'view', 1694: u'viewed', 1695: u'views', 1696: u'virtue', 1697: u'virtuous', 1698: u'void', 1699: u'volition', 1700: u'volunteers', 1701: u'vulgar', 1702: u'wait', 1703: u'waking', 1704: u'wandering', 1705: u'want', 1706: u'wanting', 1707: u'wants', 1708: u'warranties', 1709: u'was', 1710: u'water', 1711: u'way', 1712: u'ways', 1713: u'we', 1714: u'weaker', 1715: u'weakness', 1716: u'web', 1717: u'welfare', 1718: u'well', 1719: u'welt', 1720: u'went', 1721: u'were', 1722: u'what', 1723: u'whatever', 1724: u'when', 1725: u'whence', 1726: u'whenever', 1727: u'where', 1728: u'whereas', 1729: u'whereby', 1730: u'wherever', 1731: u'whether', 1732: u'which', 1733: u'while', 1734: u'who', 1735: u'whoever', 1736: u'whole', 1737: u'wholly', 1738: u'whom', 1739: u'whose', 1740: u'why', 1741: u'wickedness', 1742: u'wild', 1743: u'will', 1744: u'windings', 1745: u'wisdom', 1746: u'wise', 1747: u'wish', 1748: u'wished', 1749: u'wishes', 1750: u'wishing', 1751: u'with', 1752: u'within', 1753: u'without', 1754: u'wollen', 1755: u'word', 1756: u'words', 1757: u'work', 1758: u'works', 1759: u'world', 1760: u'worldly', 1761: u'worse', 1762: u'worship', 1763: u'worst', 1764: u'worth', 1765: u'worthy', 1766: u'would', 1767: u'wretched', 1768: u'writing', 1769: u'writings', 1770: u'written', 1771: u'wrong', 1772: u'www', 1773: u'years', 1774: u'yes', 1775: u'yet', 1776: u'yield', 1777: u'you', 1778: u'young', 1779: u'your', 1780: u'youth'}\n",
      "{u'limited': 941, u'writings': 1769, u'temperament': 1567, u'desirable': 425, u'four': 678, u'sleep': 1457, u'thirst': 1596, u'perverted': 1189, u'consists': 326, u'hate': 752, u'relationships': 1332, u'increase': 835, u'founder': 677, u'under': 1647, u'pride': 1247, u'worth': 1764, u'lack': 907, u'compassion': 289, u'void': 1698, u'every': 571, u'gratification': 721, u'utmost': 1679, u'school': 1397, u'unconditioned': 1644, u'triumph': 1633, u'strivings': 1518, u'dogmas': 479, u'estimates': 561, u'direct': 450, u'second': 1402, u'even': 567, u'established': 558, u'errors': 553, u'organisms': 1130, u'reasoning': 1318, u'lights': 937, u'above': 5, u'conduct': 309, u'new': 1074, u'net': 1071, u'ever': 570, u'seeks': 1407, u'told': 1615, u'deemed': 399, u'hero': 773, u'notions': 1085, u'whose': 1739, u'men': 1010, u'richest': 1366, u'here': 769, u'protection': 1277, u'represented': 1347, u'path': 1165, u'obtained': 1096, u'substance': 1529, u'rests': 1357, u'changed': 250, u'credit': 367, u'superstitious': 1548, u'natures': 1058, u'punishment': 1286, u'classification': 269, u'explained': 605, u'highly': 778, u'brought': 211, u'moral': 1033, u'total': 1620, u'would': 1766, u'negative': 1067, u'distributing': 470, u'call': 221, u'calm': 225, u'wollen': 1754, u'until': 1664, u'holy': 787, u'brings': 210, u'aware': 147, u'dogma': 478, u'hold': 785, u'origin': 1132, u'circumstances': 264, u'me': 1001, u'word': 1755, u'work': 1757, u'my': 1048, u'example': 585, u'ascetic': 119, u'give': 704, u'unjust': 1660, u'disparagement': 460, u'want': 1705, u'times': 1611, u'absolute': 6, u'end': 530, u'turn': 1638, u'provide': 1280, u'damage': 380, u'how': 796, u'stupidity': 1525, u'significance': 1442, u'ordinary': 1127, u'beauty': 162, u'after': 46, u'customs': 377, u'wrong': 1771, u'curiosity': 374, u'law': 918, u'unselfish': 1663, u'effective': 511, u'amid': 75, u'appreciate': 101, u'hypotheses': 803, u'greek': 727, u'maintain': 973, u'order': 1126, u'blind': 196, u'interpretation': 869, u'over': 1144, u'castes': 237, u'wickedness': 1741, u'before': 168, u'personal': 1184, u'heretofore': 772, u'writing': 1768, u'better': 188, u'hidden': 774, u'easier': 503, u'damages': 381, u'then': 1581, u'them': 1579, u'weakness': 1715, u'intimidation': 870, u'effects': 512, u'they': 1589, u'dinge': 449, u'victory': 1692, u'reasonable': 1317, u'each': 499, u'went': 1720, u'side': 1440, u'mean': 1002, u'series': 1421, u'stronger': 1521, u'misfortune': 1026, u'god': 709, u'content': 336, u'laid': 909, u'forth': 672, u'foundation': 676, u'perception': 1173, u'written': 1770, u'eternal': 562, u'revenge': 1361, u'free': 679, u'standard': 1499, u'struggle': 1523, u'estimate': 560, u'universally': 1659, u'created': 363, u'days': 386, u'deems': 400, u'oppose': 1119, u'moving': 1044, u'user': 1673, u'already': 66, u'render': 1342, u'subtlety': 1531, u'rank': 1304, u'philosophical': 1196, u'another': 84, u'electronic': 518, u'service': 1425, u'master': 993, u'too': 1616, u'occasioned': 1100, u'serve': 1424, u'took': 1617, u'wisdom': 1745, u'begins': 171, u'badness': 154, u'tree': 1632, u'nations': 1054, u'project': 1266, u'binds': 192, u'guilt': 735, u'historical': 782, u'feeling': 638, u'powers': 1233, u'fashion': 628, u'sees': 1412, u'respecting': 1353, u'modern': 1028, u'mind': 1022, u'manner': 988, u'seem': 1408, u'forced': 661, u'strength': 1514, u'thoroughly': 1598, u'latter': 916, u'responsible': 1355, u'isolated': 881, u'forces': 662, u'sleeper': 1458, u'circles': 262, u'acquire': 20, u'pandora': 1153, u'infliction': 846, u'object': 1091, u'germany': 702, u'reverence': 1362, u'manifested': 985, u'morality': 1034, u'observation': 1094, u'calculated': 219, u'principle': 1252, u'notion': 1084, u'came': 226, u'discontent': 454, u'inspire': 857, u'hunger': 802, u'religions': 1335, u'copy': 347, u'consciousness': 316, u'judged': 887, u'rich': 1365, u'personality': 1186, u'do': 475, u'ardor': 106, u'plato': 1209, u'perceive': 1171, u'altogether': 70, u'comply': 292, u'egoism': 515, u'public': 1284, u'bad': 153, u'explanations': 607, u'ethical': 564, u'erroneous': 551, u'decides': 393, u'victim': 1691, u'reference': 1322, u'habit': 740, u'epochs': 547, u'depends': 419, u'decided': 392, u'result': 1358, u'simultaneously': 1447, u'best': 186, u'subject': 1526, u'said': 1383, u'capacity': 230, u'away': 148, u'continually': 338, u'tantamount': 1564, u'unable': 1642, u'unalterable': 1643, u'approach': 103, u'we': 1713, u'never': 1072, u'terms': 1573, u'nature': 1057, u'confusion': 311, u'were': 1721, u'however': 797, u'extent': 610, u'received': 1321, u'protect': 1276, u'fault': 632, u'ill': 810, u'conclusions': 306, u'against': 48, u'und': 1646, u'logic': 953, u'distinction': 465, u'expense': 601, u'asked': 126, u'very': 1689, u'character': 251, u'height': 763, u'offerings': 1105, u'comprehension': 294, u'speak': 1483, u'gratitude': 722, u'petty': 1190, u'basis': 157, u'three': 1606, u'been': 167, u'much': 1045, u'interest': 868, u'basic': 156, u'privilege': 1255, u'sache': 1380, u'life': 934, u'deeper': 402, u'concerning': 302, u'wish': 1747, u'child': 256, u'exception': 588, u'air': 58, u'employ': 528, u'near': 1059, u'aid': 55, u'property': 1273, u'is': 880, u'it': 882, u'shame': 1431, u'in': 829, u'comparative': 286, u'if': 809, u'grown': 731, u'things': 1591, u'make': 977, u'demands': 416, u'metaphysics': 1018, u'utilitarian': 1677, u'harmony': 750, u'unfortunate': 1653, u'grows': 732, u'palpably': 1152, u'evil': 577, u'hand': 745, u'delight': 410, u'thoughts': 1602, u'whereby': 1729, u'possessed': 1221, u'maxims': 999, u'contact': 330, u'greatest': 725, u'qualities': 1294, u'mother': 1039, u'the': 1577, u'left': 926, u'opinions': 1118, u'unities': 1656, u'just': 890, u'gods': 710, u'distribute': 468, u'repose': 1346, u'ideas': 808, u'human': 799, u'facts': 618, u'yes': 1774, u'yet': 1775, u'sciences': 1400, u'regarded': 1326, u'had': 743, u'advancement': 36, u'belongs': 180, u'advanced': 35, u'easy': 505, u'has': 751, u'humanity': 800, u'gave': 695, u'survival': 1552, u'possible': 1224, u'possibly': 1225, u'wanting': 1706, u'judge': 886, u'shadow': 1429, u'feelings': 639, u'dreams': 492, u'apart': 93, u'desire': 426, u'psychological': 1283, u'contradict': 341, u'performing': 1176, u'steps': 1509, u'towards': 1622, u'www': 1772, u'right': 1369, u'old': 1108, u'deal': 387, u'people': 1169, u'maxim': 998, u'born': 200, u'paragraphs': 1156, u'dear': 388, u'intellect': 863, u'forgotten': 665, u'consensus': 317, u'proceeding': 1259, u'for': 659, u'bottom': 202, u'inhuman': 851, u'birdlike': 193, u'everything': 573, u'continue': 340, u'theological': 1582, u'presentiment': 1242, u'limitation': 940, u'predisposition': 1239, u'despair': 429, u'efforts': 514, u'considerations': 324, u'primitive': 1249, u'formerly': 670, u'presence': 1240, u'obtaining': 1097, u'bound': 203, u'obscene': 1093, u'son': 1471, u'down': 489, u'lies': 933, u'beings': 175, u'doctrine': 476, u'honored': 792, u'methods': 1020, u'deception': 391, u'support': 1549, u'corporeal': 350, u'accordingly': 15, u'way': 1711, u'greatness': 726, u'editions': 508, u'was': 1709, u'therefore': 1587, u'head': 757, u'medium': 1007, u'form': 666, u'evinces': 579, u'guiltlessness': 737, u'hear': 759, u'true': 1634, u'continuance': 339, u'admiration': 31, u'portions': 1219, u'emotional': 526, u'cosmos': 354, u'stages': 1497, u'promises': 1268, u'sinful': 1450, u'evidence': 575, u'proves': 1279, u'exist': 596, u'promised': 1267, u'fashioned': 629, u'prayer': 1237, u'archive': 105, u'physical': 1199, u'no': 1076, u'whereas': 1728, u'generally': 697, u'reality': 1313, u'picture': 1200, u'embodied': 524, u'guiltless': 736, u'partiality': 1158, u'died': 444, u'longer': 956, u'assume': 131, u'daily': 379, u'time': 1610, u'serious': 1422, u'quantity': 1296, u'customary': 376, u'whoever': 1735, u'varying': 1686, u'souls': 1478, u'leads': 921, u'grateful': 719, u'skin': 1455, u'displaying': 461, u'certainly': 247, u'suicide': 1541, u'father': 631, u'environment': 545, u'charge': 253, u'must': 1046, u'advantage': 37, u'exalted': 584, u'liability': 929, u'perceived': 1172, u'purely': 1289, u'did': 442, u'die': 443, u'standards': 1500, u'spiritual': 1493, u'says': 1395, u'cost': 355, u'substitute': 1530, u'appear': 96, u'remain': 1337, u'goes': 711, u'satisfy': 1391, u'involuntarily': 875, u'superstition': 1547, u'water': 1710, u'contemplate': 332, u'alone': 64, u'along': 65, u'appears': 98, u'change': 249, u'wait': 1702, u'box': 204, u'guilty': 738, u'usually': 1676, u'love': 964, u'merely': 1014, u'logical': 954, u'prove': 1278, u'sake': 1386, u'tears': 1566, u'live': 948, u'memory': 1009, u'associated': 130, u'afford': 43, u'beholder': 172, u'apparent': 94, u'validity': 1682, u'everywhere': 574, u'virtue': 1696, u'cases': 234, u'given': 705, u'effort': 513, u'fly': 655, u'originally': 1134, u'soul': 1477, u'believes': 179, u'entailed': 539, u'renders': 1344, u'can': 227, u'believed': 178, u'making': 979, u'imitation': 815, u'claim': 268, u'stream': 1513, u'sense': 1416, u'stroke': 1519, u'occur': 1102, u'requirements': 1349, u'dispositions': 464, u'exceptional': 589, u'sudden': 1534, u'pure': 1288, u'speaks': 1485, u'irrational': 878, u'may': 1000, u'sacrifice': 1381, u'spot': 1495, u'mankind': 987, u'such': 1533, u'grow': 730, u'man': 981, u'indifferently': 838, u'natural': 1055, u'conscious': 315, u'whenever': 1726, u'so': 1461, u'rangordnung': 1303, u'unconsciously': 1645, u'refund': 1324, u'acts': 25, u'indeed': 836, u'wishing': 1750, u'entity': 544, u'brain': 205, u'cold': 275, u'still': 1510, u'worship': 1762, u'tendency': 1569, u'ethic': 563, u'seeming': 1410, u'torn': 1619, u'inflicted': 845, u'forms': 671, u'suspicion': 1555, u'constitutes': 329, u'causation': 239, u'non': 1078, u'thereby': 1586, u'views': 1695, u'impulses': 828, u'evolution': 580, u'intellectual': 864, u'half': 744, u'not': 1081, u'now': 1087, u'maintaining': 974, u'possess': 1220, u'susceptibility': 1554, u'term': 1571, u'name': 1051, u'entirely': 543, u'subjection': 1527, u'domain': 481, u'manifests': 986, u'owing': 1145, u'kant': 894, u'adequately': 30, u'living': 951, u'shown': 1437, u'intercourse': 867, u'space': 1482, u'greeks': 728, u'astray': 135, u'looking': 960, u'imperative': 820, u'rational': 1307, u'metaphysic': 1016, u'shows': 1438, u'earlier': 501, u'theory': 1584, u'possibility': 1223, u'quite': 1300, u'advantages': 39, u'org': 1128, u'predicated': 1238, u'care': 231, u'advance': 34, u'training': 1629, u'contemplation': 333, u'language': 910, u'thing': 1590, u'place': 1204, u'think': 1592, u'first': 652, u'emotion': 525, u'surviving': 1553, u'spoken': 1494, u'faculty': 619, u'one': 1112, u'directly': 451, u'carry': 232, u'impossible': 824, u'affords': 45, u'disinterested': 458, u'city': 265, u'little': 947, u'necessarily': 1062, u'personalities': 1185, u'anyone': 90, u'speaking': 1484, u'gives': 706, u'eyes': 615, u'that': 1576, u'brains': 206, u'rochefoucauld': 1371, u'accurately': 17, u'flowers': 654, u'holder': 786, u'than': 1575, u'accordance': 13, u'require': 1348, u'transferred': 1630, u'future': 690, u'venture': 1688, u'aesthetic': 41, u'wandering': 1704, u'and': 80, u'illness': 811, u'remained': 1338, u'argument': 108, u'say': 1394, u'spectacle': 1489, u'saw': 1393, u'any': 89, u'aside': 124, u'equipment': 550, u'ideal': 807, u'take': 1559, u'online': 1115, u'destroy': 431, u'begin': 169, u'sure': 1551, u'pain': 1149, u'opposite': 1121, u'paid': 1148, u'printed': 1253, u'especially': 554, u'considered': 325, u'later': 915, u'steady': 1507, u'tooth': 1618, u'deportment': 420, u'laws': 919, u'show': 1436, u'german': 700, u'contemporary': 334, u'merit': 1015, u'discovered': 455, u'treasure': 1631, u'saints': 1385, u'outside': 1143, u'dull': 494, u'liberation': 930, u'only': 1116, u'essence': 555, u'lighten': 936, u'soon': 1473, u'aim': 56, u'cannot': 228, u'nearly': 1061, u'unethical': 1652, u'regarding': 1327, u'seldom': 1413, u'yield': 1776, u'sum': 1542, u'stupid': 1524, u'though': 1600, u'disparage': 459, u'where': 1727, u'honesty': 789, u'namely': 1052, u'impressions': 826, u'aroused': 112, u'ways': 1712, u'subsequent': 1528, u'enough': 538, u'between': 189, u'notice': 1083, u'originated': 1135, u'ascribed': 121, u'blame': 195, u'gratefully': 720, u'ascribes': 122, u'come': 280, u'reaction': 1310, u'many': 990, u'priests': 1248, u'according': 14, u'called': 222, u'deduction': 395, u's': 1379, u'expression': 608, u'comes': 281, u'duty': 497, u'affairs': 42, u'madness': 970, u'color': 278, u'period': 1179, u'inexplicable': 842, u'satisfaction': 1390, u'assertions': 129, u'moreover': 1036, u'extinct': 611, u'sensible': 1417, u'arts': 117, u'capable': 229, u'punished': 1285, u'combined': 279, u'motives': 1041, u'exhaustion': 595, u'wants': 1707, u'devilish': 440, u'thousand': 1603, u'formed': 668, u'abject': 1, u'former': 669, u'those': 1599, u'countless': 358, u'case': 233, u'myself': 1049, u'developing': 437, u'these': 1588, u'cast': 235, u'endowed': 531, u'someone': 1469, u'somebody': 1468, u'volition': 1699, u'different': 446, u'develop': 435, u'author': 144, u'granted': 718, u'perpetually': 1182, u'same': 1388, u'events': 569, u'status': 1506, u'noble': 1077, u'centuries': 244, u'sickness': 1439, u'enjoyment': 535, u'ness': 1070, u'persons': 1187, u'two': 1639, u'totally': 1621, u'tradition': 1624, u'longing': 957, u'largely': 912, u'magical': 972, u'without': 1753, u'inability': 830, u'reward': 1364, u'justify': 893, u'riddle': 1368, u'among': 76, u'being': 174, u'money': 1031, u'guided': 734, u'brute': 212, u'actions': 24, u'kill': 897, u'aspect': 127, u'perilous': 1178, u'death': 389, u'thinking': 1594, u'seems': 1411, u'except': 587, u'around': 111, u'read': 1311, u'early': 502, u'using': 1674, u'accepted': 10, u'dare': 384, u'benefit': 183, u'miraculous': 1024, u'either': 517, u'always': 72, u'beholders': 173, u'falsehood': 623, u'worldly': 1760, u'servile': 1426, u'images': 813, u'divine': 474, u'thinks': 1595, u'provided': 1281, u'passions': 1163, u'compulsion': 296, u'process': 1260, u'felt': 644, u'scientific': 1401, u'business': 215, u'fitness': 653, u'unusual': 1665, u'forgetfulness': 664, u'standpoint': 1501, u'affording': 44, u'on': 1110, u'stone': 1511, u'of': 1103, u'practical': 1234, u'whence': 1725, u'stand': 1498, u'neighbor': 1068, u'act': 22, u'or': 1123, u'goethe': 712, u'garb': 694, u'determine': 433, u'deceivers': 390, u'nowadays': 1088, u'your': 1779, u'her': 768, u'there': 1585, u'disposed': 462, u'christianity': 259, u'strict': 1516, u'low': 967, u'assumes': 132, u'relic': 1333, u'complete': 290, u'regard': 1325, u'philosophers': 1195, u'strenuous': 1515, u'with': 1751, u'powerless': 1232, u'gone': 713, u'certain': 246, u'measurement': 1006, u'moved': 1042, u'deep': 401, u'fellow': 643, u'imagination': 814, u'as': 118, u'deem': 398, u'at': 137, u'deed': 396, u'again': 47, u'field': 646, u'valid': 1681, u'you': 1777, u'poor': 1218, u'oneself': 1114, u'seriousness': 1423, u'gutenberg': 739, u'important': 822, u'included': 833, u'tendencies': 1568, u'backward': 152, u'remote': 1340, u'calls': 224, u'intentional': 866, u'mass': 992, u'original': 1133, u'caste': 236, u'all': 61, u'consider': 321, u'ceases': 243, u'forbidden': 660, u'invariable': 873, u'welfare': 1717, u'follow': 656, u'religious': 1336, u'children': 257, u'causes': 241, u'spirit': 1491, u'to': 1613, u'tm': 1612, u'immutable': 819, u'sound': 1479, u'worse': 1761, u'far': 627, u'sons': 1472, u'worst': 1763, u'fall': 621, u'difference': 445, u'condition': 307, u'heaven': 761, u'accompanying': 12, u'benevolent': 185, u'applicable': 99, u'small': 1460, u'past': 1164, u'rate': 1305, u'invention': 874, u'perspective': 1188, u'further': 689, u'creatures': 366, u'conscience': 314, u'what': 1722, u'defence': 406, u'stood': 1512, u'illogical': 812, u'advantageous': 38, u'sun': 1543, u'section': 1404, u'brief': 208, u'emotions': 527, u'learned': 923, u'method': 1019, u'movement': 1043, u'full': 686, u'christian': 258, u'hours': 794, u'compressed': 295, u'strong': 1520, u'tragedy': 1626, u'bible': 191, u'conviction': 344, u'inspired': 858, u'compliance': 291, u'experience': 602, u'prior': 1254, u'social': 1462, u'action': 23, u'inspires': 859, u'family': 625, u'suddenly': 1535, u'solitude': 1466, u'put': 1292, u'trained': 1628, u'extinction': 612, u'establish': 557, u'readily': 1312, u'eye': 614, u'takes': 1561, u'uniformity': 1654, u'injure': 852, u'finally': 648, u'soil': 1464, u'taken': 1560, u'injury': 853, u'entails': 540, u'more': 1035, u'wretched': 1767, u'knows': 904, u'domination': 482, u'impulse': 827, u'particular': 1159, u'known': 903, u'superiority': 1545, u'cunning': 373, u'none': 1079, u'pleasing': 1212, u'science': 1399, u'der': 423, u'abnegation': 3, u'paragraph': 1155, u'evolved': 581, u'learn': 922, u'history': 783, u'beautiful': 161, u'civilizations': 267, u'prompt': 1269, u'stated': 1504, u'share': 1432, u'accept': 9, u'states': 1505, u'sphere': 1490, u'attain': 139, u'arise': 109, u'phrase': 1198, u'species': 1487, u'information': 849, u'needs': 1066, u'goal': 708, u'rather': 1306, u'breaking': 207, u'occasionally': 1099, u'influences': 848, u'creature': 365, u'simplicity': 1445, u'questioning': 1298, u'blood': 197, u'coming': 282, u'ethics': 565, u'a': 0, u'short': 1434, u'responsibility': 1354, u'dread': 490, u'fundamental': 688, u'pleasure': 1213, u'dream': 491, u'help': 765, u'developed': 436, u'mission': 1027, u'held': 764, u'attitude': 143, u'through': 1607, u'existence': 597, u'suffer': 1536, u'its': 883, u'roots': 1373, u'astrology': 136, u'termed': 1572, u'inward': 877, u'deeds': 397, u'actually': 27, u'late': 914, u'harmless': 749, u'systems': 1558, u'might': 1021, u'good': 714, u'return': 1360, u'food': 658, u'pglaf': 1191, u'preservation': 1243, u'mystery': 1050, u'easily': 504, u'hereafter': 770, u'occasions': 1101, u'truths': 1636, u'courses': 361, u'habits': 741, u'found': 675, u'intolerable': 872, u'heavy': 762, u'everyone': 572, u'mental': 1012, u'generation': 698, u'house': 795, u'hard': 748, u'oppressed': 1122, u'idea': 806, u'inflict': 844, u'doses': 486, u'slave': 1456, u'beyond': 190, u'absurdity': 8, u'event': 568, u'really': 1314, u'try': 1637, u'since': 1449, u'health': 758, u'belief': 176, u'extraordinary': 613, u'reason': 1316, u'disposition': 463, u'ask': 125, u'beginning': 170, u'reared': 1315, u'tenets': 1570, u'sensations': 1415, u'expedient': 600, u'consequence': 318, u'ding': 448, u'rooted': 1372, u'feel': 637, u'number': 1089, u'fancy': 626, u'antiquity': 85, u'feet': 642, u'sympathy': 1556, u'done': 485, u'fees': 641, u'thinkers': 1593, u'together': 1614, u'threatening': 1605, u'obedience': 1090, u'least': 924, u'assumption': 133, u'pains': 1151, u'hundred': 801, u'saint': 1384, u'relationship': 1331, u'immediate': 816, u'appreciation': 102, u'part': 1157, u'believe': 177, u'grace': 716, u'kind': 898, u'b': 150, u'double': 487, u'aims': 57, u'annihilation': 83, u'i': 805, u'determined': 434, u'contrary': 342, u'supposed': 1550, u'mensch': 1011, u'ages': 50, u'defect': 404, u'comrades': 297, u'alike': 59, u'organs': 1131, u'lie': 932, u'self': 1414, u'majority': 976, u'welt': 1719, u'anxiety': 87, u'play': 1210, u'added': 28, u'reach': 1308, u'most': 1038, u'experiences': 604, u'enduring': 533, u'nothing': 1082, u'stands': 1502, u'clear': 270, u'traditional': 1625, u'artistic': 115, u'particularly': 1160, u'phenomenon': 1193, u'sanctity': 1389, u'relation': 1329, u'fine': 651, u'find': 649, u'henceforth': 767, u'copyright': 349, u'justice': 891, u'hope': 793, u'distributed': 469, u'assertion': 128, u'windings': 1744, u'circle': 261, u'his': 781, u'gains': 693, u'permission': 1181, u'feels': 640, u'courage': 359, u'rest': 1356, u'closely': 273, u'during': 496, u'him': 779, u'distraction': 467, u'enemy': 534, u'keenest': 895, u'sacrificed': 1382, u'cry': 371, u'alteration': 68, u'remove': 1341, u'common': 284, u'cease': 242, u'pneumatic': 1214, u'art': 114, u'intelligence': 865, u'potent': 1228, u'culture': 372, u'see': 1406, u'individual': 839, u'are': 107, u'close': 272, u'feared': 634, u'youth': 1780, u'desires': 428, u'matter': 997, u'pictures': 1201, u'please': 1211, u'demons': 418, u'various': 1685, u'probably': 1256, u'donate': 483, u'conditions': 308, u'europe': 566, u'creating': 364, u'betrayed': 187, u'understanding': 1649, u'both': 201, u'c': 218, u'last': 913, u'reverse': 1363, u'license': 931, u'desired': 427, u'solely': 1465, u'foreign': 663, u'sensitive': 1418, u'connection': 313, u'became': 163, u'asceticism': 120, u'poverty': 1229, u'whole': 1736, u'finds': 650, u'point': 1217, u'reasons': 1319, u'corresponds': 352, u'community': 285, u'simply': 1446, u'church': 260, u'throughout': 1608, u'devil': 439, u'irresponsibility': 879, u'due': 493, u'whom': 1738, u'secret': 1403, u'maintenance': 975, u'delights': 412, u'lived': 949, u'cruelty': 370, u'else': 521, u'whatever': 1723, u'races': 1302, u'lives': 950, u'demand': 415, u'plants': 1208, u'conception': 299, u'look': 958, u'admire': 32, u'while': 1733, u'error': 552, u'dictum': 441, u'century': 245, u'wherever': 1730, u'antithesis': 86, u'demon': 417, u'itself': 884, u'rid': 1367, u'rules': 1376, u'copying': 348, u'peoples': 1170, u'esteemed': 559, u'conflict': 310, u'higher': 776, u'development': 438, u'used': 1671, u'paths': 1166, u'moment': 1029, u'arrived': 113, u'purpose': 1290, u'necessity': 1064, u'lower': 968, u'older': 1109, u'salvation': 1387, u'analysis': 78, u'theology': 1583, u'craves': 362, u'person': 1183, u'chemistry': 255, u'egoistic': 516, u'judgments': 889, u'altruistic': 71, u'profoundly': 1264, u'questions': 1299, u'world': 1759, u'useful': 1672, u'schopenhauer': 1398, u'cut': 378, u'also': 67, u'source': 1480, u'lacking': 908, u'format': 667, u'advocate': 40, u'unegoistic': 1651, u'suffering': 1537, u'moods': 1032, u'bit': 194, u'imposed': 823, u'success': 1532, u'manifest': 982, u'heart': 760, u'distrust': 472, u'individuals': 841, u'indication': 837, u'essential': 556, u'often': 1107, u'absolutely': 7, u'spring': 1496, u'some': 1467, u'back': 151, u'understood': 1650, u'strongest': 1522, u'experienced': 603, u'mirror': 1025, u'ourselves': 1141, u'pronounced': 1270, u'gradually': 717, u'collapses': 276, u'shall': 1430, u'religion': 1334, u'civilization': 266, u'donations': 484, u'inclination': 832, u'be': 158, u'ebook': 506, u'run': 1378, u'agreement': 54, u'step': 1508, u'consolation': 327, u'become': 165, u'ache': 19, u'by': 217, u'faith': 620, u'anything': 91, u'exaggerated': 583, u'ordeal': 1125, u'frightful': 684, u'charm': 254, u'hatred': 753, u'consequently': 320, u'miracles': 1023, u'into': 871, u'within': 1752, u'presupposes': 1244, u'placing': 1206, u'question': 1297, u'long': 955, u'custom': 375, u'germans': 701, u'forward': 674, u'grew': 729, u'sections': 1405, u'himself': 780, u'an': 77, u'duly': 495, u'sighted': 1441, u'authority': 145, u'line': 942, u'considerable': 322, u'posted': 1226, u'characteristic': 252, u'up': 1666, u'us': 1668, u'un': 1641, u'accustomed': 18, u'aversion': 146, u'similar': 1443, u'prevails': 1246, u'sort': 1475, u'individuality': 840, u'constant': 328, u'likewise': 939, u'influence': 847, u'single': 1452, u'codes': 274, u'evils': 578, u'peace': 1168, u'conceptions': 300, u'elements': 520, u'excitation': 592, u'problems': 1258, u'meaning': 1003, u'utterly': 1680, u'ago': 51, u'suffers': 1538, u'e': 498, u'vice': 1690, u'age': 49, u'train': 1627, u'oracle': 1124, u'requires': 1350, u'having': 755, u'once': 1111, u'results': 1359, u'existing': 598, u'proposition': 1275, u'go': 707, u'seemed': 1409, u'concerned': 301, u'young': 1778, u'literary': 946, u'enlightenment': 537, u'virtuous': 1697, u'wished': 1748, u'wishes': 1749, u'putting': 1293, u'entire': 542, u'magic': 971, u'anxious': 88, u'race': 1301, u'friendliness': 682, u'disclaimer': 453, u'concluded': 304, u'waking': 1703, u'notwithstanding': 1086, u'depression': 421, u'power': 1230, u'hereditary': 771, u'access': 11, u'exercise': 594, u'body': 198, u'justification': 892, u'led': 925, u'degree': 407, u'exchange': 591, u'following': 657, u'objects': 1092, u'let': 928, u'others': 1137, u'consideration': 323, u'deduced': 394, u'great': 723, u'receive': 1320, u'involved': 876, u'benevolence': 184, u'requite': 1351, u'opinion': 1117, u'makes': 978, u'honor': 790, u'danger': 382, u'complying': 293, u'apt': 104, u'instinct': 862, u'names': 1053, u'apply': 100, u'use': 1670, u'fee': 636, u'from': 685, u'remains': 1339, u'next': 1075, u'few': 645, u'doubt': 488, u'agreeable': 53, u'themselves': 1580, u'deepest': 403, u'possession': 1222, u'comparison': 288, u'becomes': 166, u'savage': 1392, u'opposing': 1120, u'ashamed': 123, u'account': 16, u'animals': 82, u'f': 616, u'this': 1597, u'lapse': 911, u'when': 1724, u'anywhere': 92, u'praise': 1236, u'meet': 1008, u'proof': 1271, u'control': 343, u'weaker': 1714, u'links': 944, u'calculation': 220, u'proportions': 1274, u'tax': 1565, u'purposes': 1291, u'pieces': 1203, u'high': 775, u'assumptions': 134, u'something': 1470, u'sought': 1476, u'martyr': 991, u'contempt': 335, u'united': 1655, u'defective': 405, u'fortunate': 673, u'located': 952, u'sentiments': 1420, u'animal': 81, u'instead': 861, u'immoral': 818, u'sin': 1448, u'singular': 1453, u'philosophy': 1197, u'collection': 277, u'light': 935, u'counter': 357, u'lines': 943, u'element': 519, u'volunteers': 1700, u'insight': 856, u'produced': 1262, u'own': 1146, u'including': 834, u'looks': 961, u'circumscribed': 263, u'perfect': 1174, u'superior': 1544, u'burning': 214, u'la': 905, u'labor': 906, u'primordial': 1250, u'degrees': 408, u'derivative': 424, u'greater': 724, u'pangs': 1154, u'material': 996, u'ambition': 74, u'sinfulness': 1451, u'day': 385, u'strive': 1517, u'masters': 994, u'profound': 1263, u'mastery': 995, u'sufficiently': 1540, u'delightful': 411, u'truth': 1635, u'beneath': 182, u'prevailing': 1245, u'doing': 480, u'society': 1463, u'measure': 1005, u'our': 1140, u'sexual': 1428, u'special': 1486, u'ebooks': 507, u'sentiment': 1419, u'entertainment': 541, u'wholly': 1737, u'honorable': 791, u'cause': 240, u'organic': 1129, u'could': 356, u'keep': 896, u'allied': 62, u'mortal': 1037, u'hence': 766, u'deprives': 422, u'attest': 142, u'powerful': 1231, u'hitherto': 784, u'set': 1427, u'owner': 1147, u'quality': 1295, u'ancient': 79, u'unknown': 1661, u'vulgar': 1701, u'system': 1557, u'relations': 1330, u'their': 1578, u'perfectly': 1175, u'final': 647, u'painful': 1150, u'malady': 980, u'disagreeable': 452, u'explanation': 606, u'exactly': 582, u'regards': 1328, u'manifestation': 983, u'discretionary': 457, u'loved': 965, u'loves': 966, u'providing': 1282, u'distinguished': 466, u'false': 622, u'have': 754, u'need': 1065, u'apparently': 95, u'clearly': 271, u'viewed': 1694, u'catholic': 238, u'able': 2, u'instance': 860, u'concerns': 303, u'which': 1732, u'cosmical': 353, u'unless': 1662, u'who': 1734, u'vengeance': 1687, u'connected': 312, u'emancipation': 523, u'awe': 149, u'why': 1740, u'spirits': 1492, u'consequences': 319, u'metaphysical': 1017, u'looked': 959, u'talk': 1563, u'occasion': 1098, u'enjoyments': 536, u'fact': 617, u'impression': 825, u'atmosphere': 138, u'bring': 209, u'fear': 633, u'principal': 1251, u'nearer': 1060, u'envy': 546, u'based': 155, u'knowledge': 902, u'should': 1435, u'inherited': 850, u'attained': 140, u'thousands': 1604, u'inferior': 843, u'means': 1004, u'familiar': 624, u'bear': 159, u'ones': 1113, u'words': 1756, u'years': 1773, u'processes': 1261, u'course': 360, u'calling': 223, u'she': 1433, u'contain': 331, u'generations': 699, u'view': 1693, u'knowing': 901, u'exists': 599, u'deity': 409, u'acquires': 21, u'destiny': 430, u'below': 181, u'state': 1503, u'supernatural': 1546, u'injustice': 854, u'crude': 368, u'progress': 1265, u'neither': 1069, u'email': 522, u'ruling': 1377, u'ends': 532, u'importance': 821, u'joy': 885, u'sorrow': 1474, u'hypothesis': 804, u'distribution': 471, u'freely': 681, u'taking': 1562, u'equal': 548, u'agree': 52, u'admit': 33, u'manifestations': 984, u'otherwise': 1138, u'habitual': 742, u'laugh': 917, u'respect': 1352, u'trademark': 1623, u'copies': 346, u'slowly': 1459, u'poet': 1215, u'copied': 345, u'arises': 110, u'corresponding': 351, u'am': 73, u'sufficient': 1539, u'vanity': 1684, u'general': 696, u'present': 1241, u'fearful': 635, u'plain': 1207, u'appearance': 97, u'value': 1683, u'will': 1743, u'wild': 1742, u'almost': 63, u'delusion': 413, u'thus': 1609, u'site': 1454, u'perhaps': 1177, u'unity': 1657, u'party': 1161, u'gets': 703, u'difficult': 447, u'practice': 1235, u'http': 798, u'conceived': 298, u'upon': 1667, u'effect': 510, u'discredited': 456, u'judgment': 888, u'destruction': 432, u'scarcely': 1396, u'off': 1104, u'reflection': 1323, u'fully': 687, u'nevertheless': 1073, u'well': 1718, u'thought': 1601, u'exceedingly': 586, u'command': 283, u'usual': 1675, u'excessive': 590, u'less': 927, u'moments': 1030, u'obtain': 1095, u'sources': 1481, u'happiness': 747, u'web': 1716, u'simple': 1444, u'book': 199, u'extends': 609, u'nor': 1080, u'usage': 1669, u'ought': 1139, u'fate': 630, u'manners': 989, u'royalty': 1374, u'know': 900, u'burden': 213, u'immediately': 817, u'necessary': 1063, u'like': 938, u'lost': 963, u'testimony': 1574, u'payments': 1167, u'lose': 962, u'divest': 473, u'works': 1758, u'replacement': 1345, u'because': 164, u'phenomena': 1192, u'alive': 60, u'motive': 1040, u'proper': 1272, u'home': 788, u'happens': 746, u'lead': 920, u'literally': 945, u'philosopher': 1194, u'does': 477, u'passion': 1162, u'warranties': 1708, u'poets': 1216, u'reaching': 1309, u'although': 69, u'worthy': 1765, u'posterity': 1227, u'gained': 692, u'about': 4, u'actual': 26, u'freedom': 680, u'certainty': 248, u'equally': 549, u'rendered': 1343, u'attains': 141, u'guard': 733, u'artists': 116, u'mere': 1013, u'utility': 1678, u'additional': 29, u'rightly': 1370, u'inasmuch': 831, u'delusions': 414, u'inner': 855, u'specimens': 1488, u'naturally': 1056, u'but': 216, u'gain': 691, u'highest': 777, u'he': 756, u'made': 969, u'wise': 1746, u'evident': 576, u'whether': 1731, u'dangerous': 383, u'official': 1106, u'excitement': 593, u'placed': 1205, u'cruel': 369, u'empty': 529, u'problem': 1257, u'piece': 1202, u'bearing': 160, u'eagerness': 500, u'universal': 1658, u'periods': 1180, u'goodness': 715, u'education': 509, u'mutual': 1047, u'compared': 287, u'contest': 337, u'other': 1136, u'u': 1640, u'out': 1142, u'conclusion': 305, u'kinds': 899, u'friends': 683, u'rule': 1375, u'pupil': 1287, u'understand': 1648}\n"
     ]
    }
   ],
   "source": [
    "# Forming a mapping from words->index and index->word for one-hot encoding. Index is unique\n",
    "\n",
    "bow = {}\n",
    "rev_bow = {}\n",
    "i = 0\n",
    "for ix in range(len(words)):\n",
    "    if freq[ix] > 2:\n",
    "        bow[i] = words[ix]\n",
    "        rev_bow[words[ix]] = i\n",
    "        i += 1\n",
    "\n",
    "print len(bow)\n",
    "print bow\n",
    "print rev_bow"
   ]
  },
  {
   "cell_type": "code",
   "execution_count": 8,
   "metadata": {
    "collapsed": false
   },
   "outputs": [
    {
     "name": "stdout",
     "output_type": "stream",
     "text": [
      "1781 [ 0.  0.  0. ...,  0.  0.  0.]\n",
      "tree\n"
     ]
    }
   ],
   "source": [
    "# Supplementary functions for one-hot encoding\n",
    "\n",
    "def get_one_hot_vector(word):\n",
    "    vec = np.zeros((len(bow),))\n",
    "    vec[rev_bow[word]] = 1.0\n",
    "    return vec\n",
    "\n",
    "def get_word_from_vec(vec):\n",
    "    ind = np.argmax(vec)\n",
    "    return bow[ind]\n",
    "\n",
    "a = get_one_hot_vector('tree')\n",
    "print len(a), a\n",
    "a_ = get_word_from_vec(a)\n",
    "print a_"
   ]
  },
  {
   "cell_type": "code",
   "execution_count": 9,
   "metadata": {
    "collapsed": false
   },
   "outputs": [
    {
     "name": "stdout",
     "output_type": "stream",
     "text": [
      "(35456, 1781)\n",
      "it\n",
      "is\n",
      "often\n",
      "enough\n",
      "and\n",
      "always\n",
      "with\n",
      "great\n",
      "to\n",
      "me\n"
     ]
    }
   ],
   "source": [
    "# Converting the whole text into one hot encoding form ie Each word encoded as a one hot vector one after the other\n",
    "\n",
    "dataset = []\n",
    "for w in range(len(ds)):\n",
    "    try:\n",
    "        dataset.append(get_one_hot_vector(ds[w]))\n",
    "    except:\n",
    "        pass\n",
    "\n",
    "dataset = np.asarray(dataset)\n",
    "print dataset.shape # Why is the shape (35456, 1781)? Why is the shape not (40057, 1781)?\n",
    "\n",
    "# Demonstrating accessing a word using its index\n",
    "for ix in range(10):\n",
    "    print bow[dataset[ix].argmax()]"
   ]
  },
  {
   "cell_type": "code",
   "execution_count": 10,
   "metadata": {
    "collapsed": false
   },
   "outputs": [
    {
     "name": "stdout",
     "output_type": "stream",
     "text": [
      "[1 2 3 4] (4,)\n",
      "[5 6 7 8] (4,)\n",
      "[[ 1.  2.  3.  4.  5.  6.  7.  8.]] (1, 8)\n",
      "\n",
      "\n",
      "[ 0.  0.  0. ...,  0.  0.  0.] (1781,)\n",
      "(35453, 5343) (35453, 1781)\n"
     ]
    }
   ],
   "source": [
    "X = np.zeros((dataset.shape[0]-3, dataset.shape[1]*3))\n",
    "# print dataset.shape[0], dataset.shape[1]\n",
    "# print dataset.shape[0]-1, dataset.shape[1]*2\n",
    "# print '\\n'\n",
    "\n",
    "for ix in range(X.shape[0]-3):\n",
    "    X[ix] = np.hstack((dataset[ix], dataset[ix+1], dataset[ix+2]))\n",
    "\n",
    "\n",
    "a = np.asarray([1,2,3,4])\n",
    "b = np.asarray([5,6,7,8])\n",
    "print a, a.shape\n",
    "print b, b.shape\n",
    "c = np.zeros((1,8))\n",
    "c[0] = np.hstack((a,b))\n",
    "print c, c.shape\n",
    "print '\\n'\n",
    "print dataset[0], dataset[0].shape\n",
    "\n",
    "\n",
    "y = dataset[3:]\n",
    "\n",
    "print X.shape, y.shape"
   ]
  },
  {
   "cell_type": "code",
   "execution_count": 11,
   "metadata": {
    "collapsed": false
   },
   "outputs": [
    {
     "name": "stdout",
     "output_type": "stream",
     "text": [
      "(30135, 5343) (5318, 5343)\n",
      "(30135, 1781) (5318, 1781)\n"
     ]
    }
   ],
   "source": [
    "split = int(0.85 * X.shape[0])\n",
    "\n",
    "X_train = X[:split]\n",
    "X_val = X[split:]\n",
    "y_train = y[:split]\n",
    "y_val = y[split:]\n",
    "\n",
    "print X_train.shape, X_val.shape\n",
    "print y_train.shape, y_val.shape"
   ]
  },
  {
   "cell_type": "code",
   "execution_count": 54,
   "metadata": {
    "collapsed": false
   },
   "outputs": [
    {
     "name": "stdout",
     "output_type": "stream",
     "text": [
      "_________________________________________________________________\n",
      "Layer (type)                 Output Shape              Param #   \n",
      "=================================================================\n",
      "input_4 (InputLayer)         (None, 5343)              0         \n",
      "_________________________________________________________________\n",
      "dense_7 (Dense)              (None, 100)               534400    \n",
      "_________________________________________________________________\n",
      "dropout_4 (Dropout)          (None, 100)               0         \n",
      "_________________________________________________________________\n",
      "dense_8 (Dense)              (None, 1781)              179881    \n",
      "=================================================================\n",
      "Total params: 714,281.0\n",
      "Trainable params: 714,281.0\n",
      "Non-trainable params: 0.0\n",
      "_________________________________________________________________\n"
     ]
    }
   ],
   "source": [
    "embedding = 100\n",
    "\n",
    "inp = Input(shape=(5343,))\n",
    "emb = Dense(embedding, activation='tanh')(inp)\n",
    "emb = Dropout(0.32)(emb)\n",
    "out = Dense(1781, activation='softmax')(emb)\n",
    "\n",
    "model = Model(inputs=inp, outputs=out)\n",
    "model.summary()\n",
    "model.compile(loss='categorical_crossentropy', optimizer='adam', metrics=['accuracy'])\n",
    "encoder = Model(inputs=inp, outputs=emb)\n"
   ]
  },
  {
   "cell_type": "code",
   "execution_count": 55,
   "metadata": {
    "collapsed": false
   },
   "outputs": [
    {
     "name": "stdout",
     "output_type": "stream",
     "text": [
      "Train on 30135 samples, validate on 5318 samples\n",
      "Epoch 1/25\n",
      "32s - loss: 6.2173 - acc: 0.0770 - val_loss: 6.4149 - val_acc: 0.0778\n",
      "Epoch 2/25\n",
      "19s - loss: 5.6455 - acc: 0.1027 - val_loss: 6.4763 - val_acc: 0.0933\n",
      "Epoch 3/25\n",
      "22s - loss: 5.4927 - acc: 0.1187 - val_loss: 6.4688 - val_acc: 0.1042\n",
      "Epoch 4/25\n",
      "23s - loss: 5.3334 - acc: 0.1383 - val_loss: 6.4679 - val_acc: 0.1132\n",
      "Epoch 5/25\n",
      "21s - loss: 5.1695 - acc: 0.1575 - val_loss: 6.4761 - val_acc: 0.1232\n",
      "Epoch 6/25\n",
      "20s - loss: 5.0084 - acc: 0.1728 - val_loss: 6.4812 - val_acc: 0.1269\n",
      "Epoch 7/25\n",
      "21s - loss: 4.8515 - acc: 0.1864 - val_loss: 6.5174 - val_acc: 0.1314\n",
      "Epoch 8/25\n",
      "20s - loss: 4.6916 - acc: 0.2000 - val_loss: 6.5248 - val_acc: 0.1299\n",
      "Epoch 9/25\n",
      "19s - loss: 4.5282 - acc: 0.2144 - val_loss: 6.5526 - val_acc: 0.1290\n",
      "Epoch 10/25\n",
      "19s - loss: 4.3748 - acc: 0.2324 - val_loss: 6.5791 - val_acc: 0.1258\n",
      "Epoch 11/25\n",
      "19s - loss: 4.2230 - acc: 0.2467 - val_loss: 6.6145 - val_acc: 0.1232\n",
      "Epoch 12/25\n",
      "19s - loss: 4.0648 - acc: 0.2648 - val_loss: 6.6263 - val_acc: 0.1196\n",
      "Epoch 13/25\n",
      "20s - loss: 3.9119 - acc: 0.2789 - val_loss: 6.6645 - val_acc: 0.1171\n",
      "Epoch 14/25\n",
      "19s - loss: 3.7686 - acc: 0.2960 - val_loss: 6.7019 - val_acc: 0.1151\n",
      "Epoch 15/25\n",
      "19s - loss: 3.6285 - acc: 0.3116 - val_loss: 6.7419 - val_acc: 0.1126\n",
      "Epoch 16/25\n",
      "19s - loss: 3.4943 - acc: 0.3277 - val_loss: 6.7664 - val_acc: 0.1085\n",
      "Epoch 17/25\n",
      "19s - loss: 3.3728 - acc: 0.3397 - val_loss: 6.8112 - val_acc: 0.1062\n",
      "Epoch 18/25\n",
      "19s - loss: 3.2382 - acc: 0.3553 - val_loss: 6.8648 - val_acc: 0.1053\n",
      "Epoch 19/25\n",
      "19s - loss: 3.1187 - acc: 0.3743 - val_loss: 6.9104 - val_acc: 0.1030\n",
      "Epoch 20/25\n",
      "19s - loss: 3.0117 - acc: 0.3873 - val_loss: 6.9732 - val_acc: 0.1019\n",
      "Epoch 21/25\n",
      "20s - loss: 2.9003 - acc: 0.4017 - val_loss: 7.0390 - val_acc: 0.0982\n",
      "Epoch 22/25\n",
      "19s - loss: 2.7991 - acc: 0.4158 - val_loss: 7.0927 - val_acc: 0.0965\n",
      "Epoch 23/25\n",
      "19s - loss: 2.7058 - acc: 0.4272 - val_loss: 7.1479 - val_acc: 0.0959\n",
      "Epoch 24/25\n",
      "19s - loss: 2.6204 - acc: 0.4389 - val_loss: 7.2218 - val_acc: 0.0923\n",
      "Epoch 25/25\n",
      "24s - loss: 2.5245 - acc: 0.4518 - val_loss: 7.2836 - val_acc: 0.0908\n"
     ]
    }
   ],
   "source": [
    "hist = model.fit(X_train, y_train, epochs=25, shuffle=True, batch_size=100, validation_data=(X_val, y_val), verbose=2)"
   ]
  },
  {
   "cell_type": "code",
   "execution_count": 68,
   "metadata": {
    "collapsed": false
   },
   "outputs": [
    {
     "name": "stdout",
     "output_type": "stream",
     "text": [
      "1781\n",
      "[u'limited', u'writings', u'demand', u'desirable', u'four', u'sleep', u'thirst', u'perverted', u'consists', u'hate', u'relationships', u'whose', u'founder', u'under', u'pride', u'worth', u'invariable', u'compassion', u'void', u'every', u'gratification', u'utmost', u'school', u'unconditioned', u'triumph', u'strivings', u'dogmas', u'estimates', u'direct', u'second', u'even', u'established', u'errors', u'organisms', u'children', u'lights', u'above', u'conduct', u'new', u'net', u'ever', u'seeks', u'told', u'deemed', u'simultaneously', u'notions', u'never', u'richest', u'here', u'protection', u'represented', u'path', u'obtained', u'substance', u'rests', u'changed', u'credit', u'superstitious', u'natures', u'punishment', u'classification', u'explained', u'feelings', u'brought', u'moral', u'total', u'charge', u'would', u'negative', u'distributing', u'call', u'calm', u'until', u'holy', u'brings', u'aware', u'dogma', u'hold', u'must', u'me', u'word', u'work', u'my', u'example', u'ascetic', u'give', u'unjust', u'disparagement', u'want', u'times', u'absolute', u'end', u'thing', u'provide', u'damage', u'how', u'stupidity', u'significance', u'ordinary', u'beauty', u'earlier', u'customs', u'wrong', u'curiosity', u'law', u'unselfish', u'effective', u'amid', u'appreciate', u'hypotheses', u'greek', u'maintain', u'order', u'emotion', u'interpretation', u'over', u'castes', u'wickedness', u'before', u'personal', u'heretofore', u'writing', u'better', u'hidden', u'easier', u'damages', u'then', u'them', u'weakness', u'intimidation', u'effects', u'they', u'dinge', u'victory', u'reasonable', u'each', u'went', u'side', u'mean', u'series', u'misfortune', u'god', u'content', u'laid', u'forth', u'foundation', u'perception', u'eternal', u'little', u'free', u'standard', u'struggle', u'estimate', u'universally', u'created', u'days', u'deems', u'oppose', u'moving', u'user', u'already', u'render', u'subtlety', u'rank', u'philosophical', u'another', u'electronic', u'service', u'master', u'too', u'occasioned', u'serve', u'took', u'wisdom', u'begins', u'anxiety', u'tree', u'nations', u'project', u'binds', u'guilt', u'historical', u'feeling', u'solely', u'fashion', u'sees', u'respecting', u'modern', u'mind', u'manner', u'seem', u'forced', u'strength', u'thoroughly', u'latter', u'responsible', u'isolated', u'forces', u'sleeper', u'circles', u'acquire', u'pandora', u'though', u'object', u'germany', u'reverence', u'manifested', u'morality', u'observation', u'prevails', u'principle', u'notion', u'came', u'discontent', u'inspire', u'hunger', u'religions', u'copy', u'just', u'deepest', u'rich', u'constant', u'personality', u'do', u'ardor', u'plato', u'perceive', u'altogether', u'comply', u'egoism', u'public', u'bad', u'explanations', u'attest', u'erroneous', u'decides', u'victim', u'reference', u'habit', u'epochs', u'depends', u'decided', u'result', u'hero', u'best', u'subject', u'said', u'capacity', u'away', u'continually', u'tantamount', u'unable', u'unalterable', u'approach', u'we', u'men', u'terms', u'nature', u'confusion', u'aesthetic', u'however', u'extent', u'received', u'protect', u'fault', u'ill', u'against', u'und', u'logic', u'distinction', u'expense', u'asked', u'very', u'had', u'height', u'offerings', u'donations', u'comprehension', u'speak', u'gratitude', u'petty', u'basis', u'three', u'been', u'much', u'interest', u'basic', u'privilege', u'sache', u'life', u'deeper', u'concerning', u'child', u'exception', u'air', u'employ', u'near', u'aid', u'property', u'is', u'it', u'shame', u'in', u'comparative', u'if', u'grown', u'things', u'make', u'format', u'metaphysics', u'utilitarian', u'harmony', u'unfortunate', u'grows', u'palpably', u'evil', u'hand', u'delight', u'thoughts', u'whereby', u'possessed', u'maxims', u'contact', u'greatest', u'qualities', u'mother', u'the', u'left', u'opinions', u'unities', u'consciousness', u'gods', u'distribute', u'repose', u'aside', u'human', u'facts', u'yes', u'yet', u'equipment', u'regarded', u'character', u'advancement', u'belongs', u'advanced', u'easy', u'has', u'humanity', u'gave', u'survival', u'possible', u'possibly', u'wanting', u'judge', u'shadow', u'highly', u'dreams', u'apart', u'desire', u'psychological', u'contradict', u'performing', u'steps', u'www', u'right', u'old', u'deal', u'people', u'maxim', u'born', u'paragraphs', u'dear', u'intellect', u'embodied', u'proceeding', u'for', u'bottom', u'inhuman', u'birdlike', u'everything', u'continue', u'theological', u'disposed', u'presentiment', u'limitation', u'predisposition', u'despair', u'efforts', u'considerations', u'primitive', u'formerly', u'presence', u'obtaining', u'bound', u'intellectual', u'son', u'down', u'lies', u'beings', u'doctrine', u'honored', u'methods', u'deception', u'support', u'corporeal', u'accordingly', u'way', u'greatness', u'editions', u'was', u'therefore', u'head', u'medium', u'form', u'evinces', u'guiltlessness', u'hear', u'true', u'continuance', u'admiration', u'portions', u'emotional', u'cosmos', u'stages', u'promises', u'stronger', u'evidence', u'proves', u'exist', u'promised', u'fashioned', u'prayer', u'archive', u'physical', u'no', u'whereas', u'generally', u'reality', u'picture', u'pronounced', u'felt', u'partiality', u'died', u'longer', u'assume', u'daily', u'time', u'serious', u'laws', u'customary', u'whoever', u'varying', u'souls', u'leads', u'grateful', u'skin', u'displaying', u'certainly', u'suicide', u'father', u'environment', u'finally', u'circumstances', u'advantage', u'exalted', u'liability', u'perceived', u'purely', u'did', u'die', u'standards', u'section', u'spiritual', u'says', u'cost', u'substitute', u'asceticism', u'appear', u'abnegation', u'goes', u'satisfy', u'involuntarily', u'understanding', u'water', u'contemplate', u'alone', u'along', u'appears', u'change', u'wait', u'box', u'guilty', u'usually', u'love', u'merely', u'logical', u'prove', u'sake', u'only', u'live', u'memory', u'afford', u'beholder', u'apparent', u'validity', u'everywhere', u'virtue', u'cases', u'effort', u'fly', u'originally', u'soul', u'believes', u'exaggerated', u'renders', u'can', u'following', u'making', u'imitation', u'heart', u'stream', u'sense', u'stroke', u'occur', u'requirements', u'dispositions', u'exceptional', u'pure', u'speaks', u'irrational', u'may', u'sacrifice', u'spot', u'mankind', u'such', u'grow', u'man', u'indifferently', u'natural', u'conscious', u'whenever', u'so', u'increase', u'talk', u'nearly', u'refund', u'acts', u'indeed', u'wishing', u'years', u'course', u'cold', u'still', u'worship', u'tendency', u'ethic', u'torn', u'inflicted', u'forms', u'suspicion', u'constitutes', u'into', u'non', u'thereby', u'views', u'impulses', u'processes', u'obscene', u'half', u'not', u'now', u'nor', u'possess', u'susceptibility', u'term', u'name', u'entirely', u'subjection', u'domain', u'manifests', u'owing', u'kant', u'adequately', u'living', u'shown', u'intercourse', u'space', u'greeks', u'astray', u'looking', u'imperative', u'rational', u'metaphysic', u'shows', u'after', u'theory', u'possibility', u'quite', u'advantages', u'org', u'predicated', u'care', u'advance', u'training', u'contemplation', u'language', u'turn', u'place', u'think', u'first', u'origin', u'surviving', u'spoken', u'faculty', u'one', u'directly', u'carry', u'impossible', u'affords', u'disinterested', u'city', u'given', u'necessarily', u'personalities', u'anyone', u'speaking', u'gives', u'eyes', u'that', u'brains', u'rochefoucauld', u'accurately', u'flowers', u'holder', u'than', u'accordance', u'require', u'transferred', u'future', u'venture', u'were', u'wandering', u'and', u'illness', u'remained', u'argument', u'say', u'spectacle', u'saw', u'any', u'general', u'ideas', u'sciences', u'ideal', u'take', u'online', u'destroy', u'begin', u'sure', u'pain', u'opposite', u'paid', u'printed', u'especially', u'considered', u'later', u'steady', u'tooth', u'deportment', u'quantity', u'show', u'german', u'contemporary', u'merit', u'discovered', u'treasure', u'saints', u'state', u'considerable', u'liberation', u'tears', u'developed', u'lighten', u'mission', u'aim', u'cannot', u'unconsciously', u'unethical', u'regarding', u'seldom', u'yield', u'stupid', u'disparage', u'where', u'honesty', u'namely', u'impressions', u'aroused', u'ways', u'subsequent', u'outside', u'between', u'notice', u'originated', u'ascribed', u'blame', u'gratefully', u'ascribes', u'come', u'reaction', u'many', u'priests', u'according', u'called', u'deduction', u's', u'expression', u'comes', u'duty', u'affairs', u'madness', u'color', u'period', u'inexplicable', u'satisfaction', u'assertions', u'moreover', u'extinct', u'sensible', u'unusual', u'capable', u'punished', u'combined', u'motives', u'sinful', u'exhaustion', u'wants', u'devilish', u'thousand', u'formed', u'dangerous', u'abject', u'former', u'those', u'countless', u'sound', u'myself', u'developing', u'these', u'cast', u'eagerness', u'soil', u'sudden', u'return', u'volition', u'different', u'develop', u'author', u'granted', u'perpetually', u'same', u'events', u'status', u'noble', u'centuries', u'sickness', u'enjoyment', u'ness', u'persons', u'totally', u'tradition', u'longing', u'largely', u'magical', u'without', u'inability', u'reward', u'justify', u'riddle', u'among', u'being', u'when', u'guided', u'rest', u'cease', u'aspect', u'perilous', u'death', u'thinking', u'seems', u'except', u'around', u'read', u'early', u'world', u'accepted', u'dare', u'benefit', u'superiority', u'either', u'always', u'beholders', u'falsehood', u'laugh', u'servile', u'images', u'divine', u'thinks', u'provided', u'passions', u'compulsion', u'guiltless', u'scientific', u'business', u'fitness', u'arts', u'forgetfulness', u'standpoint', u'affording', u'on', u'stone', u'of', u'practical', u'whence', u'stand', u'neighbor', u'act', u'or', u'burning', u'garb', u'determine', u'deceivers', u'nowadays', u'your', u'her', u'there', u'brute', u'christianity', u'strict', u'low', u'assumes', u'relic', u'complete', u'enough', u'regard', u'philosophers', u'strenuous', u'with', u'agree', u'gone', u'certain', u'measurement', u'am', u'deep', u'fellow', u'imagination', u'as', u'deem', u'at', u'deed', u'again', u'field', u'valid', u'you', u'poor', u'oneself', u'seriousness', u'gutenberg', u'important', u'included', u'tendencies', u'backward', u'remote', u'calls', u'intentional', u'mass', u'wherever', u'original', u'caste', u'all', u'consider', u'ceases', u'forbidden', u'lack', u'welfare', u'follow', u'religious', u'reasoning', u'causes', u'spirit', u'to', u'tm', u'immutable', u'case', u'worse', u'far', u'sons', u'worst', u'fall', u'difference', u'condition', u'heaven', u'accompanying', u'benevolent', u'applicable', u'small', u'past', u'rate', u'invention', u'perspective', u'further', u'creatures', u'conscience', u'what', u'defence', u'stood', u'illogical', u'advantageous', u'sun', u'sum', u'brief', u'emotions', u'learned', u'method', u'movement', u'full', u'christian', u'revenge', u'hours', u'compressed', u'strong', u'tragedy', u'bible', u'conviction', u'inspired', u'compliance', u'experience', u'prior', u'social', u'action', u'inspires', u'family', u'suddenly', u'solitude', u'ask', u'trained', u'extinction', u'establish', u'readily', u'eye', u'takes', u'uniformity', u'injure', u'two', u'endowed', u'taken', u'injury', u'entails', u'more', u'wretched', u'knows', u'domination', u'impulse', u'particular', u'known', u'cunning', u'none', u'enlightenment', u'science', u'der', u'remain', u'paragraph', u'evolved', u'learn', u'history', u'beautiful', u'civilizations', u'prompt', u'stated', u'share', u'accept', u'states', u'sphere', u'attain', u'arise', u'phrase', u'species', u'information', u'needs', u'goal', u'rather', u'breaking', u'occasionally', u'influences', u'creature', u'simplicity', u'questioning', u'blood', u'coming', u'ethics', u'a', u'short', u'responsibility', u'dread', u'fundamental', u'pleasure', u'dream', u'help', u'essence', u'soon', u'held', u'attitude', u'through', u'existence', u'suffer', u'its', u'roots', u'astrology', u'termed', u'inward', u'deeds', u'actually', u'late', u'harmless', u'systems', u'might', u'good', u'somebody', u'food', u'pglaf', u'preservation', u'mystery', u'easily', u'hereafter', u'occasions', u'truths', u'courses', u'someone', u'habits', u'found', u'intolerable', u'heavy', u'everyone', u'mental', u'generation', u'house', u'hard', u'oppressed', u'idea', u'inflict', u'doses', u'http', u'beyond', u'absurdity', u'event', u'really', u'anxious', u'since', u'health', u'belief', u'extraordinary', u'reason', u'disposition', u'put', u'beginning', u'reared', u'tenets', u'sensations', u'expedient', u'consequence', u'ding', u'seeming', u'feel', u'number', u'fancy', u'antiquity', u'feet', u'sympathy', u'done', u'fees', u'thinkers', u'together', u'threatening', u'obedience', u'least', u'assumption', u'pains', u'hundred', u'saint', u'relationship', u'immediate', u'appreciation', u'part', u'believe', u'grace', u'kind', u'grew', u'double', u'aims', u'annihilation', u'i', u'determined', u'contrary', u'supposed', u'mensch', u'ages', u'defect', u'comrades', u'alike', u'organs', u'lie', u'self', u'majority', u'command', u'play', u'towards', u'reach', u'most', u'experiences', u'enduring', u'nothing', u'stands', u'clear', u'traditional', u'artistic', u'particularly', u'phenomenon', u'sanctity', u'relation', u'fine', u'find', u'access', u'copyright', u'justice', u'hope', u'distributed', u'assertion', u'money', u'windings', u'circle', u'his', u'gains', u'permission', u'feels', u'courage', u'actions', u'closely', u'during', u'him', u'distraction', u'enemy', u'keenest', u'sacrificed', u'cry', u'alteration', u'remove', u'common', u'kill', u'set', u'art', u'intelligence', u'potent', u'culture', u'see', u'individual', u'are', u'close', u'feared', u'youth', u'spirits', u'matter', u'pictures', u'please', u'demons', u'various', u'probably', u'donate', u'conditions', u'europe', u'creating', u'betrayed', u'superstition', u'both', u'c', u'last', u'reverse', u'license', u'desired', u'powers', u'foreign', u'sensitive', u'connection', u'became', u'forgotten', u'poverty', u'whole', u'finds', u'point', u'simple', u'manners', u'whatever', u'simply', u'church', u'throughout', u'devil', u'irresponsibility', u'due', u'whom', u'secret', u'maintenance', u'delights', u'lived', u'cruelty', u'else', u'races', u'understand', u'temperament', u'plants', u'conception', u'look', u'admire', u'while', u'error', u'dictum', u'century', u'wollen', u'antithesis', u'demon', u'itself', u'rid', u'rules', u'copying', u'peoples', u'esteemed', u'conflict', u'higher', u'development', u'used', u'paths', u'moment', u'arrived', u'purpose', u'necessity', u'lower', u'older', u'makes', u'analysis', u'theology', u'craves', u'person', u'chemistry', u'egoistic', u'judgments', u'altruistic', u'profoundly', u'questions', u'using', u'useful', u'schopenhauer', u'cut', u'conclusions', u'source', u'lacking', u'demands', u'advocate', u'unegoistic', u'suffering', u'moods', u'bit', u'imposed', u'lost', u'manifest', u'consensus', u'distrust', u'individuals', u'indication', u'essential', u'often', u'absolutely', u'spring', u'some', u'back', u'understood', u'strongest', u'added', u'mirror', u'ourselves', u'savage', u'gradually', u'collapses', u'shall', u'religion', u'civilization', u'miraculous', u'inclination', u'be', u'ebook', u'run', u'agreement', u'step', u'consolation', u'divest', u'ache', u'by', u'faith', u'anything', u'entailed', u'ordeal', u'frightful', u'charm', u'hatred', u'consequently', u'miracles', u'causation', u'within', u'presupposes', u'few', u'placing', u'question', u'long', u'custom', u'germans', u'forward', u'sections', u'himself', u'duly', u'sighted', u'authority', u'line', u'dull', u'posted', u'characteristic', u'up', u'us', u'un', u'accustomed', u'aversion', u'similar', u'calculated', u'possession', u'individuality', u'associated', u'likewise', u'influence', u'single', u'codes', u'evils', u'peace', u'conceptions', u'elements', u'excitation', u'problems', u'meaning', u'utterly', u'ago', u'suffers', u'e', u'vice', u'age', u'train', u'oracle', u'requires', u'having', u'once', u'results', u'existing', u'proposition', u'go', u'seemed', u'concerned', u'young', u'literary', u'pleasing', u'virtuous', u'wished', u'wishes', u'putting', u'entire', u'magic', u'try', u'race', u'friendliness', u'disclaimer', u'concluded', u'waking', u'notwithstanding', u'depression', u'power', u'hereditary', u'henceforth', u'exercise', u'body', u'justification', u'led', u'degree', u'exchange', u'believed', u'objects', u'let', u'others', u'consideration', u'deduced', u'great', u'receive', u'involved', u'benevolence', u'requite', u'opinion', u'salvation', u'honor', u'danger', u'complying', u'apt', u'instinct', u'names', u'apply', u'use', u'fee', u'from', u'remains', u'next', u'process', u'doubt', u'agreeable', u'themselves', u'judged', u'sort', u'comparison', u'becomes', u'opposing', u'ashamed', u'account', u'animals', u'f', u'this', u'lapse', u'anywhere', u'praise', u'meet', u'proof', u'control', u'weaker', u'links', u'calculation', u'proportions', u'tax', u'purposes', u'pieces', u'high', u'assumptions', u'something', u'sought', u'martyr', u'contempt', u'united', u'defective', u'fortunate', u'located', u'sentiments', u'animal', u'instead', u'immoral', u'sin', u'singular', u'philosophy', u'collection', u'light', u'counter', u'lines', u'element', u'volunteers', u'insight', u'produced', u'rendered', u'including', u'looks', u'circumscribed', u'perfect', u'superior', u'goethe', u'la', u'labor', u'primordial', u'degrees', u'derivative', u'greater', u'pangs', u'material', u'ambition', u'sinfulness', u'day', u'strive', u'masters', u'profound', u'mastery', u'sufficiently', u'delightful', u'truth', u'beneath', u'experienced', u'prevailing', u'doing', u'society', u'measure', u'our', u'sexual', u'special', u'out', u'sentiment', u'entertainment', u'wholly', u'honorable', u'cause', u'organic', u'could', u'keep', u'allied', u'mortal', u'hence', u'deprives', u'ethical', u'powerful', u'hitherto', u'pneumatic', u'owner', u'quality', u'ancient', u'unknown', u'vulgar', u'system', u'relations', u'their', u'perfectly', u'final', u'painful', u'malady', u'disagreeable', u'explanation', u'exactly', u'regards', u'manifestation', u'discretionary', u'blind', u'loved', u'claim', u'loves', u'providing', u'distinguished', u'false', u'have', u'need', u'apparently', u'clearly', u'viewed', u'catholic', u'able', u'instance', u'concerns', u'which', u'cosmical', u'unless', u'who', u'vengeance', u'connected', u'emancipation', u'awe', u'why', u'consequences', u'metaphysical', u'looked', u'rangordnung', u'occasion', u'enjoyments', u'fact', u'impression', u'atmosphere', u'bring', u'fear', u'principal', u'nearer', u'envy', u'based', u'knowledge', u'should', u'inherited', u'attained', u'b', u'thousands', u'inferior', u'means', u'familiar', u'bear', u'community', u'ones', u'words', u'entity', u'evolution', u'brain', u'calling', u'she', u'infliction', u'contain', u'generations', u'view', u'knowing', u'exists', u'deity', u'acquires', u'destiny', u'cruel', u'written', u'supernatural', u'injustice', u'crude', u'progress', u'neither', u'email', u'ends', u'importance', u'joy', u'sorrow', u'hypothesis', u'distribution', u'freely', u'taking', u'equal', u'powerless', u'admit', u'manifestations', u'otherwise', u'habitual', u'worldly', u'respect', u'trademark', u'copies', u'slowly', u'poet', u'copied', u'arises', u'corresponding', u'moved', u'sufficient', u'vanity', u'an', u'present', u'fearful', u'plain', u'appearance', u'value', u'will', u'wild', u'almost', u'delusion', u'thus', u'site', u'perhaps', u'unity', u'party', u'gets', u'difficult', u'practice', u'slave', u'conceived', u'upon', u'effect', u'discredited', u'judgment', u'destruction', u'scarcely', u'off', u'reflection', u'fully', u'nevertheless', u'well', u'thought', u'exceedingly', u'welt', u'usual', u'excessive', u'less', u'moments', u'obtain', u'sources', u'happiness', u'web', u'reasons', u'other', u'extends', u'maintaining', u'usage', u'ought', u'fate', u'badness', u'corresponds', u'royalty', u'know', u'burden', u'immediately', u'necessary', u'like', u'success', u'testimony', u'payments', u'lose', u'become', u'works', u'replacement', u'because', u'phenomena', u'alive', u'motive', u'proper', u'home', u'happens', u'lead', u'literally', u'philosopher', u'does', u'passion', u'warranties', u'poets', u'reaching', u'although', u'worthy', u'posterity', u'gained', u'about', u'actual', u'freedom', u'certainty', u'empty', u'desires', u'equally', u'own', u'attains', u'guard', u'artists', u'mere', u'utility', u'additional', u'inasmuch', u'delusions', u'inner', u'specimens', u'naturally', u'rooted', u'but', u'gain', u'highest', u'he', u'also', u'made', u'wise', u'evident', u'whether', u'wish', u'official', u'excitement', u'placed', u'below', u'ruling', u'problem', u'piece', u'bearing', u'rightly', u'universal', u'periods', u'goodness', u'education', u'mutual', u'compared', u'contest', u'book', u'u', u'ebooks', u'conclusion', u'kinds', u'friends', u'rule', u'pupil', u'lives']\n"
     ]
    }
   ],
   "source": [
    "a = encoder.predict(X)\n",
    "\n",
    "w2v = {}\n",
    "alpha = 0.8\n",
    "for ix in range(X.shape[0]):\n",
    "    try:\n",
    "        old_vec = w2v[bow[y[ix].argmax()]]\n",
    "        new_vec = alpha*old_vec + (1-alpha)*a[ix]\n",
    "        w2v[bow[y[ix].argmax()]] = new_vec\n",
    "    except:\n",
    "        w2v[bow[y[ix].argmax()]] = a[ix]\n",
    "print len(w2v.keys())\n",
    "print w2v.keys()"
   ]
  },
  {
   "cell_type": "code",
   "execution_count": 69,
   "metadata": {
    "collapsed": false,
    "scrolled": true
   },
   "outputs": [
    {
     "name": "stdout",
     "output_type": "stream",
     "text": [
      "[-0.00688785  0.21504846  0.08065619 -0.15410466 -0.07233584 -0.0559564\n",
      "  0.1292907  -0.29712903  0.17873082  0.06926979  0.28190422  0.49738419\n",
      " -0.2431061  -0.4593814   0.02840119 -0.18153399 -0.62248743 -0.34955448\n",
      " -0.19996282 -0.2468074   0.10581502  0.12925176 -0.24986763 -0.37405765\n",
      "  0.46253192  0.16779752  0.42856669  0.10447274 -0.11720264 -0.2649653\n",
      "  0.50423688  0.14361604 -0.02982341  0.29967031  0.16057612  0.09657104\n",
      " -0.23618641 -0.29968101 -0.03715049 -0.13997726  0.21051803  0.20425323\n",
      " -0.04957343  0.12208879  0.08335635 -0.1920609   0.03536489  0.04371502\n",
      " -0.14213647 -0.05467362 -0.09199621 -0.25094211  0.03898845 -0.26410046\n",
      "  0.32695845  0.07644249 -0.04239016  0.17274012  0.09326854  0.05499697\n",
      "  0.1270173  -0.439928    0.00730894 -0.03198957  0.19082475 -0.21577984\n",
      "  0.01973508 -0.11397059 -0.3503862  -0.00740688 -0.13036299  0.06425832\n",
      " -0.16137736  0.00884709 -0.29775107 -0.17380336 -0.29464948 -0.23670667\n",
      " -0.17037193  0.11723574 -0.30239826 -0.19256113 -0.10108463  0.14523049\n",
      " -0.01216135 -0.00387567 -0.149673   -0.02804399  0.35108051  0.06661268\n",
      "  0.16601761  0.18110847 -0.01225581  0.22355098  0.17260249  0.11104447\n",
      "  0.24107534 -0.16922174 -0.0669739   0.35184962]\n"
     ]
    }
   ],
   "source": [
    "print w2v['tree']"
   ]
  },
  {
   "cell_type": "code",
   "execution_count": 93,
   "metadata": {
    "collapsed": false
   },
   "outputs": [
    {
     "name": "stdout",
     "output_type": "stream",
     "text": [
      "0.56733\n",
      "0.145347\n",
      "0.68698\n",
      "0.0471217\n",
      "0.517246\n",
      "0.321595\n"
     ]
    }
   ],
   "source": [
    "def similarity(a1, a2):\n",
    "    return np.dot(a1, a2)/np.sqrt((a1**2).sum()*(a2**2).sum())\n",
    "\n",
    "v1 = w2v['man']\n",
    "v2 = w2v['men']\n",
    "print similarity(v1, v2)\n",
    "\n",
    "v1 = w2v['man']\n",
    "v2 = w2v['tree']\n",
    "print similarity(v1, v2)\n",
    "\n",
    "v1 = w2v['it']\n",
    "v2 = w2v['a']\n",
    "print similarity(v1, v2)\n",
    "\n",
    "v1 = w2v['it']\n",
    "v2 = w2v['greek']\n",
    "print similarity(v1, v2)\n",
    "\n",
    "v1 = w2v['religion']\n",
    "v2 = w2v['god']\n",
    "print similarity(v1, v2)\n",
    "\n",
    "v1 = w2v['religion']\n",
    "v2 = w2v['faith']\n",
    "print similarity(v1, v2)"
   ]
  },
  {
   "cell_type": "code",
   "execution_count": null,
   "metadata": {
    "collapsed": true
   },
   "outputs": [],
   "source": []
  }
 ],
 "metadata": {
  "kernelspec": {
   "display_name": "Python 2",
   "language": "python",
   "name": "python2"
  },
  "language_info": {
   "codemirror_mode": {
    "name": "ipython",
    "version": 2
   },
   "file_extension": ".py",
   "mimetype": "text/x-python",
   "name": "python",
   "nbconvert_exporter": "python",
   "pygments_lexer": "ipython2",
   "version": "2.7.12"
  }
 },
 "nbformat": 4,
 "nbformat_minor": 2
}
