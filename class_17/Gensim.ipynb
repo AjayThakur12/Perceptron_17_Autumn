{
 "cells": [
  {
   "cell_type": "code",
   "execution_count": 1,
   "metadata": {
    "collapsed": true
   },
   "outputs": [],
   "source": [
    "import numpy as np\n",
    "from matplotlib import pyplot as plt\n",
    "%matplotlib inline\n",
    "import gensim"
   ]
  },
  {
   "cell_type": "code",
   "execution_count": 2,
   "metadata": {
    "collapsed": true
   },
   "outputs": [],
   "source": [
    "f = open('./data.txt')\n",
    "d = f.read()\n",
    "f.close()\n",
    "\n",
    "data = d[1260:]\n",
    "data = data.lower().decode('utf-8')\n",
    "import re\n",
    "\n",
    "p = re.sub('[^A-Za-z.]+', ' ', data)\n",
    "ds = p.split('.')"
   ]
  },
  {
   "cell_type": "code",
   "execution_count": 3,
   "metadata": {
    "collapsed": false
   },
   "outputs": [
    {
     "name": "stdout",
     "output_type": "stream",
     "text": [
      "it is often enough and always with great surprise intimated to me that there is something both ordinary and unusual in all my writings from the birth of tragedy to the recently published prelude to a philosophy of the future they all contain i have been told snares and nets for short sighted birds and something that is almost a constant subtle incitement to an overturning of habitual opinions and of approved customs\n"
     ]
    }
   ],
   "source": [
    "print ds[0]"
   ]
  },
  {
   "cell_type": "code",
   "execution_count": 4,
   "metadata": {
    "collapsed": true
   },
   "outputs": [],
   "source": [
    "for ix in range(len(ds)):\n",
    "    ds[ix] = ds[ix].split()"
   ]
  },
  {
   "cell_type": "code",
   "execution_count": 5,
   "metadata": {
    "collapsed": false
   },
   "outputs": [
    {
     "name": "stdout",
     "output_type": "stream",
     "text": [
      "1462\n"
     ]
    }
   ],
   "source": [
    "print len(ds)"
   ]
  },
  {
   "cell_type": "code",
   "execution_count": 103,
   "metadata": {
    "collapsed": true
   },
   "outputs": [],
   "source": [
    "guttenberg_model = gensim.models.Word2Vec(ds, min_count=2)"
   ]
  },
  {
   "cell_type": "code",
   "execution_count": 8,
   "metadata": {
    "collapsed": true
   },
   "outputs": [],
   "source": [
    "gensim.models.Word2Vec?"
   ]
  },
  {
   "cell_type": "code",
   "execution_count": 105,
   "metadata": {
    "collapsed": false
   },
   "outputs": [
    {
     "data": {
      "text/plain": [
       "array([ 0.0916331 ,  0.04703191, -0.0297388 ,  0.00196922, -0.02161656,\n",
       "        0.04905446,  0.00392922, -0.05342401, -0.00849562,  0.03286178,\n",
       "       -0.04180002, -0.05006663, -0.07334647,  0.00308191, -0.02759871,\n",
       "        0.06120314, -0.0015584 ,  0.01787914,  0.00387902, -0.03262012,\n",
       "       -0.03077645,  0.00611845,  0.07984716,  0.05410204,  0.0144777 ,\n",
       "       -0.01090546, -0.03961226,  0.03338996, -0.06394245, -0.08472137,\n",
       "       -0.04411002,  0.05934355,  0.01286103, -0.01271617,  0.00341663,\n",
       "        0.01541391,  0.01108255,  0.02541133,  0.022173  , -0.08833734,\n",
       "       -0.02180693,  0.03473688, -0.07697519, -0.03685395, -0.00119773,\n",
       "       -0.03672876,  0.04971455,  0.03909628,  0.03533366,  0.04552935,\n",
       "        0.00130472,  0.01176397, -0.00319676, -0.0253701 ,  0.04251761,\n",
       "        0.01070631,  0.04917438, -0.00225926, -0.06571301, -0.02102236,\n",
       "        0.00384569,  0.0184953 ,  0.07199281, -0.02503379,  0.0627529 ,\n",
       "       -0.02416656, -0.08379524,  0.02281433,  0.0689621 ,  0.01071052,\n",
       "       -0.02008513,  0.01596454, -0.02749595, -0.01127993, -0.01664883,\n",
       "       -0.00727643,  0.00875979,  0.03889799,  0.03168241,  0.03166899,\n",
       "        0.02486626,  0.00081803, -0.01784623, -0.03128725,  0.00441029,\n",
       "        0.01176536, -0.0420461 , -0.06700271,  0.04956413, -0.02219087,\n",
       "       -0.03889062, -0.03320339, -0.06417087,  0.0262988 ,  0.00555978,\n",
       "       -0.01117783,  0.00706113,  0.02913419,  0.02325611, -0.00119074], dtype=float32)"
      ]
     },
     "execution_count": 105,
     "metadata": {},
     "output_type": "execute_result"
    }
   ],
   "source": [
    "guttenberg_model.wv['computer']  # numpy vector of a word"
   ]
  },
  {
   "cell_type": "code",
   "execution_count": 106,
   "metadata": {
    "collapsed": false
   },
   "outputs": [
    {
     "data": {
      "text/plain": [
       "[(u'in', 0.9999669194221497),\n",
       " (u'that', 0.9999640583992004),\n",
       " (u'a', 0.9999622106552124),\n",
       " (u'to', 0.9999620914459229),\n",
       " (u'with', 0.9999613165855408),\n",
       " (u'an', 0.9999603033065796),\n",
       " (u'and', 0.9999599456787109),\n",
       " (u'for', 0.9999591112136841),\n",
       " (u'upon', 0.999958872795105),\n",
       " (u'by', 0.9999586343765259)]"
      ]
     },
     "execution_count": 106,
     "metadata": {},
     "output_type": "execute_result"
    }
   ],
   "source": [
    "guttenberg_model.similar_by_word('man')"
   ]
  },
  {
   "cell_type": "code",
   "execution_count": 107,
   "metadata": {
    "collapsed": false
   },
   "outputs": [
    {
     "ename": "MemoryError",
     "evalue": "",
     "output_type": "error",
     "traceback": [
      "\u001b[0;31m---------------------------------------------------------------------------\u001b[0m",
      "\u001b[0;31mMemoryError\u001b[0m                               Traceback (most recent call last)",
      "\u001b[0;32m<ipython-input-107-ebc4eab4f95f>\u001b[0m in \u001b[0;36m<module>\u001b[0;34m()\u001b[0m\n\u001b[0;32m----> 1\u001b[0;31m \u001b[0mgoogle_model\u001b[0m \u001b[0;34m=\u001b[0m \u001b[0mgensim\u001b[0m\u001b[0;34m.\u001b[0m\u001b[0mmodels\u001b[0m\u001b[0;34m.\u001b[0m\u001b[0mKeyedVectors\u001b[0m\u001b[0;34m.\u001b[0m\u001b[0mload_word2vec_format\u001b[0m\u001b[0;34m(\u001b[0m\u001b[0;34m'./GoogleNews-vectors-negative300.bin'\u001b[0m\u001b[0;34m,\u001b[0m \u001b[0mbinary\u001b[0m\u001b[0;34m=\u001b[0m\u001b[0mTrue\u001b[0m\u001b[0;34m)\u001b[0m\u001b[0;34m\u001b[0m\u001b[0m\n\u001b[0m",
      "\u001b[0;32m/usr/local/lib/python2.7/dist-packages/gensim/models/keyedvectors.pyc\u001b[0m in \u001b[0;36mload_word2vec_format\u001b[0;34m(cls, fname, fvocab, binary, encoding, unicode_errors, limit, datatype)\u001b[0m\n\u001b[1;32m    195\u001b[0m                 \u001b[0mvocab_size\u001b[0m \u001b[0;34m=\u001b[0m \u001b[0mmin\u001b[0m\u001b[0;34m(\u001b[0m\u001b[0mvocab_size\u001b[0m\u001b[0;34m,\u001b[0m \u001b[0mlimit\u001b[0m\u001b[0;34m)\u001b[0m\u001b[0;34m\u001b[0m\u001b[0m\n\u001b[1;32m    196\u001b[0m             \u001b[0mresult\u001b[0m \u001b[0;34m=\u001b[0m \u001b[0mcls\u001b[0m\u001b[0;34m(\u001b[0m\u001b[0;34m)\u001b[0m\u001b[0;34m\u001b[0m\u001b[0m\n\u001b[0;32m--> 197\u001b[0;31m             \u001b[0mresult\u001b[0m\u001b[0;34m.\u001b[0m\u001b[0msyn0\u001b[0m \u001b[0;34m=\u001b[0m \u001b[0mzeros\u001b[0m\u001b[0;34m(\u001b[0m\u001b[0;34m(\u001b[0m\u001b[0mvocab_size\u001b[0m\u001b[0;34m,\u001b[0m \u001b[0mvector_size\u001b[0m\u001b[0;34m)\u001b[0m\u001b[0;34m,\u001b[0m \u001b[0mdtype\u001b[0m\u001b[0;34m=\u001b[0m\u001b[0mdatatype\u001b[0m\u001b[0;34m)\u001b[0m\u001b[0;34m\u001b[0m\u001b[0m\n\u001b[0m\u001b[1;32m    198\u001b[0m \u001b[0;34m\u001b[0m\u001b[0m\n\u001b[1;32m    199\u001b[0m             \u001b[0;32mdef\u001b[0m \u001b[0madd_word\u001b[0m\u001b[0;34m(\u001b[0m\u001b[0mword\u001b[0m\u001b[0;34m,\u001b[0m \u001b[0mweights\u001b[0m\u001b[0;34m)\u001b[0m\u001b[0;34m:\u001b[0m\u001b[0;34m\u001b[0m\u001b[0m\n",
      "\u001b[0;31mMemoryError\u001b[0m: "
     ]
    }
   ],
   "source": [
    "google_model = gensim.models.KeyedVectors.load_word2vec_format('./GoogleNews-vectors-negative300.bin', binary=True)"
   ]
  },
  {
   "cell_type": "code",
   "execution_count": null,
   "metadata": {
    "collapsed": true
   },
   "outputs": [],
   "source": [
    "google_model.similar_by_word('car')\n",
    "google_model.wv.most_similar(positive=['king', 'woman'], negative=['man'])"
   ]
  },
  {
   "cell_type": "code",
   "execution_count": 108,
   "metadata": {
    "collapsed": false
   },
   "outputs": [
    {
     "name": "stdout",
     "output_type": "stream",
     "text": [
      "26797\n"
     ]
    }
   ],
   "source": [
    "f = open('./input.txt')\n",
    "ds = f.read()\n",
    "f.close()\n",
    "\n",
    "syms = ['\"', ';', ':', ',', '?', '!', '&', '(', ')', '[', ']', \"'\", '$', '@', '~', '-', '#']\n",
    "syms_2 = ['\\n', '\\t', '_', '>', '<']\n",
    "\n",
    "data = []\n",
    "for ix in ds.split('.')[:]:\n",
    "    val = ix\n",
    "    for s in syms:\n",
    "        val = val.strip().replace(s, '')\n",
    "    for s in syms_2:\n",
    "        val = val.strip().replace(s, ' ')\n",
    "    if len(val) < 500 and len(val) > 40:\n",
    "        data.append(val)\n",
    "\n",
    "print len(data)"
   ]
  },
  {
   "cell_type": "code",
   "execution_count": 109,
   "metadata": {
    "collapsed": true
   },
   "outputs": [],
   "source": [
    "train = []\n",
    "for ix in data[:]:\n",
    "    train.append(ix.lower().split())"
   ]
  },
  {
   "cell_type": "code",
   "execution_count": 134,
   "metadata": {
    "collapsed": true
   },
   "outputs": [],
   "source": [
    "sherlock_model = gensim.models.Word2Vec(train, iter=20)"
   ]
  },
  {
   "cell_type": "code",
   "execution_count": 135,
   "metadata": {
    "collapsed": false
   },
   "outputs": [
    {
     "data": {
      "text/plain": [
       "[('irene', 0.5866526365280151),\n",
       " ('mary', 0.5850111246109009),\n",
       " ('adler', 0.5755968689918518),\n",
       " ('duke', 0.566155195236206),\n",
       " ('bohemia', 0.5383192300796509),\n",
       " ('miss', 0.5275449156761169),\n",
       " ('daughter', 0.5252201557159424),\n",
       " ('annie', 0.5234867930412292),\n",
       " ('minister', 0.5176476240158081),\n",
       " ('sutherland', 0.5092310309410095)]"
      ]
     },
     "execution_count": 135,
     "metadata": {},
     "output_type": "execute_result"
    }
   ],
   "source": [
    "sherlock_model.wv.most_similar(positive=['king', 'woman'], negative=['man'])"
   ]
  },
  {
   "cell_type": "code",
   "execution_count": 136,
   "metadata": {
    "collapsed": false
   },
   "outputs": [
    {
     "data": {
      "text/plain": [
       "[('adler', 1.000019907951355),\n",
       " ('irene', 0.9836012721061707),\n",
       " ('mary', 0.9703300595283508),\n",
       " ('sutherland', 0.9545314908027649),\n",
       " ('duke', 0.9193922877311707),\n",
       " ('miss', 0.9130768775939941),\n",
       " ('annie', 0.9084542989730835),\n",
       " ('morstan', 0.9078832864761353),\n",
       " ('bohemia', 0.9044364094734192),\n",
       " ('cushing', 0.8973308205604553)]"
      ]
     },
     "execution_count": 136,
     "metadata": {},
     "output_type": "execute_result"
    }
   ],
   "source": [
    "sherlock_model.wv.most_similar_cosmul(positive=['king', 'woman'], negative=['man'])"
   ]
  },
  {
   "cell_type": "code",
   "execution_count": 137,
   "metadata": {
    "collapsed": false
   },
   "outputs": [
    {
     "name": "stdout",
     "output_type": "stream",
     "text": [
      "0.219595881045\n",
      "0.715348470367\n"
     ]
    }
   ],
   "source": [
    "print sherlock_model.wv.similarity('man', 'tree')\n",
    "print sherlock_model.wv.similarity('man', 'person')"
   ]
  },
  {
   "cell_type": "code",
   "execution_count": 138,
   "metadata": {
    "collapsed": false
   },
   "outputs": [
    {
     "data": {
      "text/plain": [
       "'sherlock'"
      ]
     },
     "execution_count": 138,
     "metadata": {},
     "output_type": "execute_result"
    }
   ],
   "source": [
    "sherlock_model.wv.doesnt_match(\"man person woman dog sherlock\".split())"
   ]
  },
  {
   "cell_type": "code",
   "execution_count": null,
   "metadata": {
    "collapsed": true
   },
   "outputs": [],
   "source": []
  }
 ],
 "metadata": {
  "kernelspec": {
   "display_name": "Python 2",
   "language": "python",
   "name": "python2"
  },
  "language_info": {
   "codemirror_mode": {
    "name": "ipython",
    "version": 2
   },
   "file_extension": ".py",
   "mimetype": "text/x-python",
   "name": "python",
   "nbconvert_exporter": "python",
   "pygments_lexer": "ipython2",
   "version": "2.7.12"
  }
 },
 "nbformat": 4,
 "nbformat_minor": 2
}
